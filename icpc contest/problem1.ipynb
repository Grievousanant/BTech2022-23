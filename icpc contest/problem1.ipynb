{
 "cells": [
  {
   "cell_type": "code",
   "execution_count": null,
   "metadata": {},
   "outputs": [],
   "source": [
    "# An elephant decided to visit his friend. \n",
    "# It turned out that the elephant's house is located at point 0 and his friend's house is located at point x(x > 0) of the coordinate line. \n",
    "# In one step the elephant can move 1, 2, 3, 4 or 5 positions forward. Determine, what is the minimum number of steps he need to make in order to get to his friend's house.\n",
    "\n",
    "# Input\n",
    "# The first line of the input contains an integer x (1 ≤ x ≤ 1 000 000) — The coordinate of the friend's house.\n",
    "\n",
    "# Output\n",
    "# Print the minimum number of steps that elephant needs to make to get from point 0 to point x.\n",
    "\n",
    "# Examples\n",
    "# inputCopy\n",
    "# 5\n",
    "# outputCopy\n",
    "# 1\n",
    "# inputCopy\n",
    "# 12\n",
    "# outputCopy\n",
    "# 3"
   ]
  },
  {
   "cell_type": "code",
   "execution_count": 3,
   "metadata": {},
   "outputs": [
    {
     "name": "stdout",
     "output_type": "stream",
     "text": [
      "3\n"
     ]
    }
   ],
   "source": [
    "# elephant: codeforces  \n",
    "# problem: http://codeforces.com/problemset/problem/617/A\n",
    "\n",
    "# input\n",
    "x = int(input())\n",
    "\n",
    "# output\n",
    "print((x+4)//5)\n"
   ]
  },
  {
   "cell_type": "code",
   "execution_count": 10,
   "metadata": {},
   "outputs": [
    {
     "name": "stdout",
     "output_type": "stream",
     "text": [
      "3\n"
     ]
    }
   ],
   "source": [
    "# x = int(input())\n",
    "# sum = 0\n",
    "# five = x//5\n",
    "# sum += five\n",
    "# x = x%5\n",
    "# # print(x)\n",
    "# four = x//4\n",
    "# sum += four\n",
    "# x = x%4\n",
    "# # print(x)\n",
    "# three = x//3\n",
    "# sum += three\n",
    "# x = x%3\n",
    "# # print(x)\n",
    "# two = x//2\n",
    "# sum += two  \n",
    "# x = x%2\n",
    "# sum += x\n",
    "# print(sum)\n",
    "\n",
    "# secodn solution\n",
    "x = int(input())\n",
    "sum = 0\n",
    "for i in range(5, 0, -1):\n",
    "    sum += x//i\n",
    "    x = x%i\n",
    "print(sum)"
   ]
  }
 ],
 "metadata": {
  "kernelspec": {
   "display_name": "Python 3",
   "language": "python",
   "name": "python3"
  },
  "language_info": {
   "codemirror_mode": {
    "name": "ipython",
    "version": 3
   },
   "file_extension": ".py",
   "mimetype": "text/x-python",
   "name": "python",
   "nbconvert_exporter": "python",
   "pygments_lexer": "ipython3",
   "version": "3.10.7"
  },
  "orig_nbformat": 4,
  "vscode": {
   "interpreter": {
    "hash": "490f1c68ed42f2c5a574e22fb9e03ff49b98516de8582ff1c5d4fb43fb70f61b"
   }
  }
 },
 "nbformat": 4,
 "nbformat_minor": 2
}
