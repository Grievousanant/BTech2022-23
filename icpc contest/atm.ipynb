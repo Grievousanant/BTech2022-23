{
 "cells": [
  {
   "cell_type": "code",
   "execution_count": 5,
   "metadata": {},
   "outputs": [
    {
     "name": "stdout",
     "output_type": "stream",
     "text": [
      "2000 x 1\n",
      "500 x 0\n",
      "200 x 1\n",
      "100 x 1\n"
     ]
    }
   ],
   "source": [
    "# atm withdrawl\n",
    "amount = int(input(\"Enter the amount to withdraw: \"))-100\n",
    "notes = [2000, 500, 200, 100]\n",
    "for i in notes:\n",
    "    if i == 100:\n",
    "        print(i, \"x\", amount//i+1)\n",
    "    else:    \n",
    "        print(i, \"x\", amount//i)\n",
    "        amount = amount % i"
   ]
  },
  {
   "cell_type": "code",
   "execution_count": null,
   "metadata": {},
   "outputs": [],
   "source": [
    "from typing import List\n",
    "out = List()\n",
    "print(out)"
   ]
  }
 ],
 "metadata": {
  "kernelspec": {
   "display_name": "Python 3",
   "language": "python",
   "name": "python3"
  },
  "language_info": {
   "codemirror_mode": {
    "name": "ipython",
    "version": 3
   },
   "file_extension": ".py",
   "mimetype": "text/x-python",
   "name": "python",
   "nbconvert_exporter": "python",
   "pygments_lexer": "ipython3",
   "version": "3.10.7"
  },
  "orig_nbformat": 4,
  "vscode": {
   "interpreter": {
    "hash": "490f1c68ed42f2c5a574e22fb9e03ff49b98516de8582ff1c5d4fb43fb70f61b"
   }
  }
 },
 "nbformat": 4,
 "nbformat_minor": 2
}
