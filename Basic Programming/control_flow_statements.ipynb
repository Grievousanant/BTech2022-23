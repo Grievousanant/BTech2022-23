{
 "cells": [
  {
   "cell_type": "code",
   "execution_count": null,
   "metadata": {},
   "outputs": [],
   "source": [
    "# flow control structure \n",
    "'''\n",
    "1. sequential\n",
    "2. selection\n",
    "3. Repetition\n",
    "\n",
    "\n",
    "\n",
    "'''"
   ]
  },
  {
   "cell_type": "code",
   "execution_count": 1,
   "metadata": {},
   "outputs": [
    {
     "name": "stdout",
     "output_type": "stream",
     "text": [
      "3.0\n"
     ]
    }
   ],
   "source": [
    "a = int(input('Enter the positive integer number '))\n",
    "out = a ** .5\n",
    "print(out)"
   ]
  },
  {
   "cell_type": "code",
   "execution_count": 14,
   "metadata": {},
   "outputs": [
    {
     "name": "stdout",
     "output_type": "stream",
     "text": [
      "Even Number\n",
      "anything\n"
     ]
    }
   ],
   "source": [
    "num = 46\n",
    "if num % 2 == 0:\n",
    "    print('Even Number')\n",
    "else:    \n",
    "    print('anything')\n",
    "\n"
   ]
  },
  {
   "cell_type": "code",
   "execution_count": 7,
   "metadata": {},
   "outputs": [
    {
     "name": "stdout",
     "output_type": "stream",
     "text": [
      "Always run\n"
     ]
    }
   ],
   "source": [
    "num = 34\n",
    "if num == 0:\n",
    "    print('Number is Zero')\n",
    "elif num < 0:\n",
    "    print('Number is negative')\n",
    "else:    \n",
    "    print('Number is positive')\n"
   ]
  },
  {
   "cell_type": "code",
   "execution_count": 2,
   "metadata": {},
   "outputs": [
    {
     "name": "stdout",
     "output_type": "stream",
     "text": [
      "Underflow condition\n",
      "Filled Height 0.0\n",
      "Remaining Height 10.0\n"
     ]
    }
   ],
   "source": [
    "# water tank problem \n",
    "h = 10\n",
    "r = 5\n",
    "F = 15\n",
    "t = int(input('Enter the time'))\n",
    "Vtank = 3.14 * r ** 2 * h\n",
    "Vwtr = F * t\n",
    "\n",
    "if Vwtr > Vtank:\n",
    "    print('Overflow condition')\n",
    "    print('Volume', Vwtr - Vtank)\n",
    "elif Vwtr == Vtank:\n",
    "    print('Tank is full')\n",
    "else:\n",
    "    print('Underflow condition')\n",
    "    ht = Vwtr / (3.14 * r ** 2)\n",
    "    hr = h - ht\n",
    "    print('Filled Height', ht)\n",
    "    print('Remaining Height', hr)        \n"
   ]
  },
  {
   "cell_type": "code",
   "execution_count": 10,
   "metadata": {},
   "outputs": [
    {
     "name": "stdout",
     "output_type": "stream",
     "text": [
      "kumar\n"
     ]
    }
   ],
   "source": [
    "a = 2\n",
    "b = 34\n",
    "out = a if a > b else b if b == 0 else a\n",
    "print(out)     "
   ]
  },
  {
   "cell_type": "code",
   "execution_count": 17,
   "metadata": {},
   "outputs": [
    {
     "name": "stdout",
     "output_type": "stream",
     "text": [
      "19\n"
     ]
    }
   ],
   "source": [
    "a = 1\n",
    "b = 9\n",
    "print(a if a > b else b if b > 10 else b + 10)    "
   ]
  },
  {
   "cell_type": "code",
   "execution_count": 18,
   "metadata": {},
   "outputs": [
    {
     "name": "stdout",
     "output_type": "stream",
     "text": [
      "world\n"
     ]
    }
   ],
   "source": [
    "print('hello' if a > b else 'world')"
   ]
  }
 ],
 "metadata": {
  "kernelspec": {
   "display_name": "Python 3.10.4 64-bit",
   "language": "python",
   "name": "python3"
  },
  "language_info": {
   "codemirror_mode": {
    "name": "ipython",
    "version": 3
   },
   "file_extension": ".py",
   "mimetype": "text/x-python",
   "name": "python",
   "nbconvert_exporter": "python",
   "pygments_lexer": "ipython3",
   "version": "3.10.7"
  },
  "orig_nbformat": 4,
  "vscode": {
   "interpreter": {
    "hash": "490f1c68ed42f2c5a574e22fb9e03ff49b98516de8582ff1c5d4fb43fb70f61b"
   }
  }
 },
 "nbformat": 4,
 "nbformat_minor": 2
}
