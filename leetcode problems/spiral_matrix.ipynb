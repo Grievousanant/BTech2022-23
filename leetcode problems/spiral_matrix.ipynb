{
 "cells": [
  {
   "cell_type": "code",
   "execution_count": 9,
   "metadata": {},
   "outputs": [],
   "source": [
    "class Solution:\n",
    "    def spiralOrder(self, A):\n",
    "        rows = len(A)\n",
    "        if rows == 0:\n",
    "            return []\n",
    "        columns = len(A[0])\n",
    "        t = l = d = 0 \n",
    "        b = rows -1\n",
    "        r = columns - 1\n",
    "        out = []\n",
    "        while t <= b and l <= r:\n",
    "            if d == 0:\n",
    "                for i in range(l, r+1):\n",
    "                    out.append(A[t][i])\n",
    "                t += 1\n",
    "                d = 1        \n",
    "            elif d == 1:\n",
    "                \n",
    "                for i in range(t, b+1):\n",
    "                    out.append(A[i][r])\n",
    "                r -= 1\n",
    "                d = 2\n",
    "            elif d == 2:\n",
    "                for i in range(r, l-1, -1):\n",
    "                    out.append(A[b][i])\n",
    "                b -= 1\n",
    "                d=3\n",
    "            elif d == 3:\n",
    "                for i in range(b, t-1, -1):\n",
    "                    out.append(A[i][l])\n",
    "                d=0\n",
    "                l+=1\n",
    "                    \n",
    "        return out"
   ]
  },
  {
   "cell_type": "code",
   "execution_count": 10,
   "metadata": {},
   "outputs": [
    {
     "name": "stdout",
     "output_type": "stream",
     "text": [
      "[1, 2, 4, 6, 5, 3]\n"
     ]
    }
   ],
   "source": [
    "# main code\n",
    "# spiralOrder\n",
    "obj = Solution()\n",
    "# A = [[3, 5, 3], [9, 0, 2], [1, 1, 0]]\n",
    "A =[\n",
    "  [1, 2],\n",
    "  [3, 4],\n",
    "  [5, 6]\n",
    "]\n",
    "out = obj.spiralOrder(A)\n",
    "print(out)"
   ]
  }
 ],
 "metadata": {
  "kernelspec": {
   "display_name": "Python 3",
   "language": "python",
   "name": "python3"
  },
  "language_info": {
   "codemirror_mode": {
    "name": "ipython",
    "version": 3
   },
   "file_extension": ".py",
   "mimetype": "text/x-python",
   "name": "python",
   "nbconvert_exporter": "python",
   "pygments_lexer": "ipython3",
   "version": "3.10.7 (tags/v3.10.7:6cc6b13, Sep  5 2022, 14:08:36) [MSC v.1933 64 bit (AMD64)]"
  },
  "orig_nbformat": 4,
  "vscode": {
   "interpreter": {
    "hash": "490f1c68ed42f2c5a574e22fb9e03ff49b98516de8582ff1c5d4fb43fb70f61b"
   }
  }
 },
 "nbformat": 4,
 "nbformat_minor": 2
}
