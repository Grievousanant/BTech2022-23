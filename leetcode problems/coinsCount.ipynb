{
 "cells": [
  {
   "cell_type": "code",
   "execution_count": 7,
   "metadata": {},
   "outputs": [
    {
     "name": "stdout",
     "output_type": "stream",
     "text": [
      "[0, 1, 2, 3, 4, 5, 6, 7, 8, 9, 10, 11, 12, 13, 14, 15, 16, 17, -1]\n",
      "4\n"
     ]
    }
   ],
   "source": [
    "# coins count \n",
    "class Solution:\n",
    "    def coinsCount(self, n, coins):\n",
    "        \n",
    "        if n == 0:\n",
    "            return 0\n",
    "        values1 = [0]\n",
    "        values2 = []\n",
    "        dp = [-1] * (n + 1)\n",
    "        dp[0] = 0\n",
    "        count = 0\n",
    "        while values1:\n",
    "            count += 1\n",
    "            for val in values1:\n",
    "                for coin in coins:\n",
    "                    new_val = val + coin\n",
    "                    if new_val == n:\n",
    "                        print(dp)\n",
    "                        return count\n",
    "                    elif new_val > n:\n",
    "                        continue\n",
    "                    elif dp[new_val] == -1:\n",
    "                        dp[new_val] = new_val\n",
    "                        values2.append(new_val)\n",
    "            values1, values2 = values2, []\n",
    "        \n",
    "        return -1\n",
    "\n",
    "# main code\n",
    "n = 18\n",
    "coins = [1, 7, 5]\n",
    "out = Solution().coinsCount(n, coins)\n",
    "\n",
    "print(out)"
   ]
  }
 ],
 "metadata": {
  "kernelspec": {
   "display_name": "Python 3",
   "language": "python",
   "name": "python3"
  },
  "language_info": {
   "codemirror_mode": {
    "name": "ipython",
    "version": 3
   },
   "file_extension": ".py",
   "mimetype": "text/x-python",
   "name": "python",
   "nbconvert_exporter": "python",
   "pygments_lexer": "ipython3",
   "version": "3.10.7"
  },
  "orig_nbformat": 4,
  "vscode": {
   "interpreter": {
    "hash": "490f1c68ed42f2c5a574e22fb9e03ff49b98516de8582ff1c5d4fb43fb70f61b"
   }
  }
 },
 "nbformat": 4,
 "nbformat_minor": 2
}
