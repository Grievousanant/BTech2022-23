{
 "cells": [
  {
   "cell_type": "code",
   "execution_count": 5,
   "metadata": {},
   "outputs": [],
   "source": [
    "# python lines to create the text file\n",
    "f = open('test.txt', 'w')\n",
    "f.write('Hello File Handling')\n",
    "# a = 23\n",
    "# b = 45\n",
    "# c = a + b\n",
    "# print(f'Sum of a {a} and b {b} is c {c}', file=f) \n",
    "f.close() "
   ]
  },
  {
   "cell_type": "code",
   "execution_count": 8,
   "metadata": {},
   "outputs": [
    {
     "name": "stdout",
     "output_type": "stream",
     "text": [
      "{'y': 1, 'e': 1, 'l': 2, 'o': 1, 'w': 1}\n"
     ]
    }
   ],
   "source": [
    "# dictionary comprehension\n",
    "st = 'yellow'\n",
    "out = {i:st.count(i) for i in st}\n",
    "print(out)"
   ]
  },
  {
   "cell_type": "code",
   "execution_count": 17,
   "metadata": {},
   "outputs": [],
   "source": [
    "# file handling: \n",
    "# reading and writing operation with local file \n",
    "# \n",
    "f = open(r'C:\\Users\\drami\\OneDrive\\Desktop\\section5\\sample', 'w')\n",
    "f.write('This is my first time to write in my file')\n",
    "f.close()"
   ]
  },
  {
   "cell_type": "code",
   "execution_count": 20,
   "metadata": {},
   "outputs": [],
   "source": [
    "f = open('table.txt', 'w')\n",
    "for i in range(1, 11):\n",
    "    for j in range(1, 11):\n",
    "        print(i*j, end='\\t', file=f)\n",
    "    print(file=f)\n",
    "\n",
    "f.close()        "
   ]
  },
  {
   "cell_type": "code",
   "execution_count": 21,
   "metadata": {},
   "outputs": [
    {
     "name": "stdout",
     "output_type": "stream",
     "text": [
      "\n",
      "choices\n",
      "1> Add\n",
      "2> Sub\n",
      "3> Mul\n",
      "4> Div\n",
      "\n",
      "\n"
     ]
    }
   ],
   "source": [
    "import time\n",
    "num1 = eval(input('Enter the first number '))\n",
    "num2 = eval(input('Enter the second number '))\n",
    "\n",
    "print('''\n",
    "choices\n",
    "1> Add\n",
    "2> Sub\n",
    "3> Mul\n",
    "4> Div\n",
    "\n",
    "''')\n",
    "c = int(input('Enter the choice 1/2/3/4 '))\n",
    "t = time.asctime()\n",
    "if c == 1:\n",
    "    out = num1 + num2\n",
    "    op = 'Addition'\n",
    "elif c == 2:\n",
    "    out = num1 - num2\n",
    "    op = 'Subtraction'\n",
    "f = open('calc.txt', 'w')\n",
    "tmp = f'{num1}\\t{num2}\\t{op}\\t{t}\\t{out}'\n",
    "print(tmp, file=f)\n",
    "f.close()"
   ]
  },
  {
   "cell_type": "code",
   "execution_count": 13,
   "metadata": {},
   "outputs": [
    {
     "name": "stdout",
     "output_type": "stream",
     "text": [
      "he\\nlo\n"
     ]
    }
   ],
   "source": [
    "print(r'he\\nlo')"
   ]
  }
 ],
 "metadata": {
  "kernelspec": {
   "display_name": "Python 3",
   "language": "python",
   "name": "python3"
  },
  "language_info": {
   "codemirror_mode": {
    "name": "ipython",
    "version": 3
   },
   "file_extension": ".py",
   "mimetype": "text/x-python",
   "name": "python",
   "nbconvert_exporter": "python",
   "pygments_lexer": "ipython3",
   "version": "3.10.7 (tags/v3.10.7:6cc6b13, Sep  5 2022, 14:08:36) [MSC v.1933 64 bit (AMD64)]"
  },
  "orig_nbformat": 4,
  "vscode": {
   "interpreter": {
    "hash": "490f1c68ed42f2c5a574e22fb9e03ff49b98516de8582ff1c5d4fb43fb70f61b"
   }
  }
 },
 "nbformat": 4,
 "nbformat_minor": 2
}
