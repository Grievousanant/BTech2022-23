{
 "cells": [
  {
   "cell_type": "code",
   "execution_count": 3,
   "metadata": {},
   "outputs": [
    {
     "name": "stdout",
     "output_type": "stream",
     "text": [
      "hello python\n",
      "programming\n",
      "section L IIOTnext textnext text\n",
      "False\n"
     ]
    }
   ],
   "source": [
    "# reading already exist file \n",
    "# read(): to read the entire text from the file object in the form of string\n",
    "# How to create the file object for reading the file named sample.txt\n",
    "'''\n",
    "open the file \n",
    "write()/read()\n",
    "close the file\n",
    "\n",
    "open(filname, mode='r')\n",
    "'''\n",
    "f = open('sample.txt')\n",
    "if not f.closed:\n",
    "    print('File successfully opened')\n",
    "\n",
    "    data = f.read()\n",
    "    print(data)\n",
    "    # print(f.closed)\n",
    "    f.close()\n",
    "    if f.closed:\n",
    "        print('File Succesfully closed or saved')\n",
    "    else:\n",
    "        print('File not saved')\n",
    "else:\n",
    "    print('Not not opened ')            \n"
   ]
  },
  {
   "cell_type": "code",
   "execution_count": 2,
   "metadata": {},
   "outputs": [
    {
     "name": "stdout",
     "output_type": "stream",
     "text": [
      "hello python\n",
      "programming\n",
      "section L IIOTnext textnext text\n",
      "True\n"
     ]
    }
   ],
   "source": [
    "with open('sample.txt') as f:\n",
    "    data = f.read()\n",
    "    print(data)\n",
    "print(f.closed)"
   ]
  },
  {
   "cell_type": "code",
   "execution_count": 8,
   "metadata": {},
   "outputs": [
    {
     "name": "stdout",
     "output_type": "stream",
     "text": [
      "57\n"
     ]
    }
   ],
   "source": [
    "# number of char in a given file sample.txt\n",
    "f = open('sample.txt')\n",
    "data = f.read()\n",
    "print(len(data))\n",
    "f.close()"
   ]
  },
  {
   "cell_type": "code",
   "execution_count": 12,
   "metadata": {},
   "outputs": [
    {
     "name": "stdout",
     "output_type": "stream",
     "text": [
      "['hello', 'python', 'programming', 'section', 'L', 'IIOTnext', 'textnext', 'text']\n",
      "8\n"
     ]
    }
   ],
   "source": [
    "# number of words in a given file \n",
    "f = open('sample.txt')\n",
    "data = f.read()\n",
    "ls_words = data.split()\n",
    "number_of_words = len(ls_words)\n",
    "print(ls_words)\n",
    "print(number_of_words)\n",
    "f.close()"
   ]
  },
  {
   "cell_type": "code",
   "execution_count": 23,
   "metadata": {},
   "outputs": [
    {
     "name": "stdout",
     "output_type": "stream",
     "text": [
      "programming\n"
     ]
    }
   ],
   "source": [
    "# longest word in a file \n",
    "f = open('sample.txt')\n",
    "data = f.read()\n",
    "ls_words = data.split()\n",
    "out = max(ls_words, key=len)\n",
    "for w in ls_words:\n",
    "    if len(w) == len(out) and w != out:\n",
    "        print(w)\n",
    "\n",
    "print(out)"
   ]
  },
  {
   "cell_type": "code",
   "execution_count": 7,
   "metadata": {},
   "outputs": [
    {
     "name": "stdout",
     "output_type": "stream",
     "text": [
      "23\n"
     ]
    }
   ],
   "source": [
    "st = 'hello python 123 #%%@%@'\n",
    "out = len(st)\n",
    "print(out)"
   ]
  },
  {
   "cell_type": "code",
   "execution_count": 30,
   "metadata": {},
   "outputs": [
    {
     "name": "stdout",
     "output_type": "stream",
     "text": [
      "hello python\n",
      "\n",
      "programming\n",
      "\n"
     ]
    }
   ],
   "source": [
    "# readline(): read the current line only \n",
    "f = open('sample.txt')\n",
    "data = f.readline(16)\n",
    "data2 = f.readline()\n",
    "print(data)\n",
    "print(data2)\n",
    "f.close()"
   ]
  }
 ],
 "metadata": {
  "kernelspec": {
   "display_name": "Python 3",
   "language": "python",
   "name": "python3"
  },
  "language_info": {
   "codemirror_mode": {
    "name": "ipython",
    "version": 3
   },
   "file_extension": ".py",
   "mimetype": "text/x-python",
   "name": "python",
   "nbconvert_exporter": "python",
   "pygments_lexer": "ipython3",
   "version": "3.10.7"
  },
  "orig_nbformat": 4,
  "vscode": {
   "interpreter": {
    "hash": "490f1c68ed42f2c5a574e22fb9e03ff49b98516de8582ff1c5d4fb43fb70f61b"
   }
  }
 },
 "nbformat": 4,
 "nbformat_minor": 2
}
