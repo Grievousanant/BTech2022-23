{
 "cells": [
  {
   "cell_type": "code",
   "execution_count": 17,
   "metadata": {},
   "outputs": [
    {
     "name": "stdout",
     "output_type": "stream",
     "text": [
      "Before append [33, 5, 6, 'hello']\n",
      "After Append: [33, 5, 6, 'hello', 100, 'world', [3, 5, 6]]\n"
     ]
    }
   ],
   "source": [
    "# append(): add the item at the end of the list\n",
    "ls = [33, 5, 6, 'hello']\n",
    "print('Before append', ls)\n",
    "ls.append(100)\n",
    "ls.append('world')\n",
    "ls.append([3, 5, 6])\n",
    "print('After Append:', ls)"
   ]
  },
  {
   "cell_type": "code",
   "execution_count": 25,
   "metadata": {},
   "outputs": [
    {
     "name": "stdout",
     "output_type": "stream",
     "text": [
      "[23, 5, 6, 'hello']\n"
     ]
    }
   ],
   "source": [
    "# Extend():\n",
    "ls = [23, 5, 6]\n",
    "ls.extend('hello')\n",
    "print(ls)"
   ]
  },
  {
   "cell_type": "code",
   "execution_count": 30,
   "metadata": {},
   "outputs": [
    {
     "name": "stdout",
     "output_type": "stream",
     "text": [
      "[2, 4, 100, 5]\n"
     ]
    }
   ],
   "source": [
    "# insert()\n",
    "ls = [2, 4, 5]\n",
    "ls.insert(-1, 100)\n",
    "print(ls)"
   ]
  },
  {
   "cell_type": "code",
   "execution_count": 35,
   "metadata": {},
   "outputs": [
    {
     "name": "stdout",
     "output_type": "stream",
     "text": [
      "['naman', 'rakesh', 'ravi']\n"
     ]
    }
   ],
   "source": [
    "# remove():\n",
    "info = ['ravi', 'saket', 'naman', 'rakesh', 'ravi']\n",
    "info.remove('saket')\n",
    "info.remove('ravi')\n",
    "print(info)\n"
   ]
  },
  {
   "cell_type": "code",
   "execution_count": 39,
   "metadata": {},
   "outputs": [
    {
     "name": "stdout",
     "output_type": "stream",
     "text": [
      "Item deleted saket\n",
      "['ravi', 'naman', 'rakesh']\n"
     ]
    }
   ],
   "source": [
    "# pop()\n",
    "info = ['ravi', 'saket', 'naman', 'rakesh']\n",
    "out = info.pop(1)\n",
    "print('Item deleted', out)\n",
    "print(info)"
   ]
  },
  {
   "cell_type": "code",
   "execution_count": 16,
   "metadata": {},
   "outputs": [
    {
     "name": "stdout",
     "output_type": "stream",
     "text": [
      "hello*world\n"
     ]
    }
   ],
   "source": [
    "print('hello', end='*')\n",
    "print('world')"
   ]
  },
  {
   "cell_type": "code",
   "execution_count": 5,
   "metadata": {},
   "outputs": [
    {
     "name": "stdout",
     "output_type": "stream",
     "text": [
      "<class 'str'>\n"
     ]
    }
   ],
   "source": [
    "st = str(344)\n",
    "print(type(st))"
   ]
  },
  {
   "cell_type": "code",
   "execution_count": 46,
   "metadata": {},
   "outputs": [
    {
     "name": "stdout",
     "output_type": "stream",
     "text": [
      "Before Append: [3, 4, 6, 7, 100]\n",
      "After Append: [3, 4, 6, 7, 100, 230, 0, [23, 5, 4, 2]]\n"
     ]
    }
   ],
   "source": [
    "# append()/extend()/insert()\n",
    "ls = [3, 4, 6, 7, 100]\n",
    "print('Before Append:', ls)\n",
    "ls.append(230)\n",
    "ls.append(0)\n",
    "ls.append([23, 5, 4, 2])\n",
    "print('After Append:', ls)"
   ]
  },
  {
   "cell_type": "code",
   "execution_count": 55,
   "metadata": {},
   "outputs": [
    {
     "name": "stdout",
     "output_type": "stream",
     "text": [
      "[3, 54, 64, 'h', 'i']\n"
     ]
    }
   ],
   "source": [
    "# extend():\n",
    "ls = [3, 54, 64]\n",
    "ls.extend('hi')\n",
    "print(ls)"
   ]
  },
  {
   "cell_type": "code",
   "execution_count": 67,
   "metadata": {},
   "outputs": [
    {
     "name": "stdout",
     "output_type": "stream",
     "text": [
      "[23, 4, 100, 43, 22]\n"
     ]
    }
   ],
   "source": [
    "# insert()\n",
    "ls = [23, 4, 43, 22]\n",
    "ls.insert(-4, 100)\n",
    "out = ls[-4]\n",
    "# ls.insert(0, -23)\n",
    "# ls.insert(0, 23)\n",
    "print(out)"
   ]
  },
  {
   "cell_type": "code",
   "execution_count": 72,
   "metadata": {},
   "outputs": [
    {
     "name": "stdout",
     "output_type": "stream",
     "text": [
      "['ravi', 'venky', 'rakesh', 'venky']\n"
     ]
    }
   ],
   "source": [
    "# remove()\n",
    "info = ['ravi', 'venky', 'rakesh', 'gareeb', 'venky']\n",
    "# info.remove('vikas')\n",
    "info.remove('gareeb')\n",
    "print(info)"
   ]
  },
  {
   "cell_type": "code",
   "execution_count": 85,
   "metadata": {},
   "outputs": [
    {
     "name": "stdout",
     "output_type": "stream",
     "text": [
      "deleted item venky\n",
      "['ravi', 'venky', 'rakesh', 'gareeb']\n"
     ]
    }
   ],
   "source": [
    "# pop()\n",
    "info = ['ravi', 'venky', 'rakesh', 'gareeb', 'venky']\n",
    "out = info.pop(-1)\n",
    "print('deleted item', out)\n",
    "print(info)"
   ]
  },
  {
   "cell_type": "code",
   "execution_count": 86,
   "metadata": {},
   "outputs": [
    {
     "name": "stdout",
     "output_type": "stream",
     "text": [
      "[]\n"
     ]
    }
   ],
   "source": [
    "# clear()\n",
    "info = ['ravi', 'venky', 'rakesh', 'gareeb', 'venky']\n",
    "info.clear()\n",
    "print(info)"
   ]
  },
  {
   "cell_type": "code",
   "execution_count": 91,
   "metadata": {},
   "outputs": [
    {
     "name": "stdout",
     "output_type": "stream",
     "text": [
      "Before apend: [44, 35]\n",
      "After Append: [44, 35, 100, 'hello', [2, 4, 56]]\n"
     ]
    }
   ],
   "source": [
    "# methods in a list class\n",
    "# append()/extend()/insert()\n",
    "# append(): Add the value(any object) at the end of list\n",
    "ls = [44, 35]\n",
    "print('Before append:', ls)\n",
    "ls.append(100)\n",
    "ls.append('hello')\n",
    "ls.append([2, 4, 56])\n",
    "print('After Append:', ls)"
   ]
  },
  {
   "cell_type": "code",
   "execution_count": 98,
   "metadata": {},
   "outputs": [
    {
     "name": "stdout",
     "output_type": "stream",
     "text": [
      "[3, 5, 6, 1, 2, 3, 4, 5]\n"
     ]
    }
   ],
   "source": [
    "# extend(): add elements of a list into a oringnal list\n",
    "ls = [3, 5, 6]\n",
    "ls.extend(range(1, 6))\n",
    "print(ls)\n"
   ]
  },
  {
   "cell_type": "code",
   "execution_count": 107,
   "metadata": {},
   "outputs": [
    {
     "name": "stdout",
     "output_type": "stream",
     "text": [
      "100\n"
     ]
    }
   ],
   "source": [
    "# 3. insert(): insert the value at position\n",
    "ls = [3, 5, 7, 8]\n",
    "ls.insert(-5, 100)\n",
    "out = ls[-5]\n",
    "print(out)\n"
   ]
  },
  {
   "cell_type": "code",
   "execution_count": 114,
   "metadata": {},
   "outputs": [
    {
     "name": "stdout",
     "output_type": "stream",
     "text": [
      "['ravi', 'saket', 'mayank', 'venky']\n"
     ]
    }
   ],
   "source": [
    "# remove()/pop()/clear()\n",
    "info = ['ravi', 'saket', 'venky', 'mayank', 'venky']\n",
    "# info.remove('saurabh')\n",
    "info.remove('venky')\n",
    "print(info)"
   ]
  },
  {
   "cell_type": "code",
   "execution_count": 123,
   "metadata": {},
   "outputs": [
    {
     "name": "stdout",
     "output_type": "stream",
     "text": [
      "Deleted item venky\n",
      "Deleted item mayank\n",
      "Deleted item venky\n",
      "Deleted item saket\n",
      "Deleted item ravi\n",
      "[]\n"
     ]
    }
   ],
   "source": [
    "# pop()\n",
    "info = ['ravi', 'saket', 'venky', 'mayank', 'venky']\n",
    "print('Deleted item',info.pop())\n",
    "print('Deleted item',info.pop())\n",
    "print('Deleted item',info.pop())\n",
    "print('Deleted item',info.pop())\n",
    "print('Deleted item',info.pop())\n",
    "print(info)"
   ]
  }
 ],
 "metadata": {
  "kernelspec": {
   "display_name": "Python 3.10.7 64-bit",
   "language": "python",
   "name": "python3"
  },
  "language_info": {
   "codemirror_mode": {
    "name": "ipython",
    "version": 3
   },
   "file_extension": ".py",
   "mimetype": "text/x-python",
   "name": "python",
   "nbconvert_exporter": "python",
   "pygments_lexer": "ipython3",
   "version": "3.10.7"
  },
  "orig_nbformat": 4,
  "vscode": {
   "interpreter": {
    "hash": "490f1c68ed42f2c5a574e22fb9e03ff49b98516de8582ff1c5d4fb43fb70f61b"
   }
  }
 },
 "nbformat": 4,
 "nbformat_minor": 2
}
