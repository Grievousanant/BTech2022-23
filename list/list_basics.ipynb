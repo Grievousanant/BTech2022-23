{
 "cells": [
  {
   "cell_type": "code",
   "execution_count": 1,
   "metadata": {},
   "outputs": [
    {
     "name": "stdout",
     "output_type": "stream",
     "text": [
      "[]\n",
      "<class 'list'>\n",
      "[]\n",
      "<class 'list'>\n"
     ]
    }
   ],
   "source": [
    "# list: Ordered collection of objects enclosed within square brackets ([]).  \n",
    "# list initialization\n",
    "ls = []  # list format\n",
    "ls2 = list()  # class call (constructor)  \n",
    "\n",
    "print(ls, type(ls), ls2, type(ls2), sep='\\n')"
   ]
  },
  {
   "cell_type": "code",
   "execution_count": 2,
   "metadata": {},
   "outputs": [
    {
     "name": "stdout",
     "output_type": "stream",
     "text": [
      "[]\n"
     ]
    }
   ],
   "source": [
    "st = ''  # empty string\n",
    "ls = []  # empty list\n",
    "print(ls)"
   ]
  },
  {
   "cell_type": "code",
   "execution_count": 3,
   "metadata": {},
   "outputs": [
    {
     "name": "stdout",
     "output_type": "stream",
     "text": [
      "['Rajive', 33, 'GLA University', 'Mathura']\n"
     ]
    }
   ],
   "source": [
    "# List with one and more than one elements \n",
    "# accessing the element from list\n",
    "info = ['Rajive', 33, 'GLA University', 'Mathura']  # list is hetrogeneous\n",
    "print(info)  # "
   ]
  },
  {
   "cell_type": "code",
   "execution_count": 4,
   "metadata": {},
   "outputs": [
    {
     "name": "stdout",
     "output_type": "stream",
     "text": [
      "Anagram\n",
      "Anagram\n"
     ]
    }
   ],
   "source": [
    "# anagram string \n",
    "st1 = 'rahul'\n",
    "st2 = 'harul'\n",
    "for i in st1:\n",
    "    if i not in st2:\n",
    "        break\n",
    "else:\n",
    "    print(\"Anagram\")\n",
    "\n",
    "# method 2\n",
    "list1 = sorted(st1)\n",
    "list2 = sorted(st2)\n",
    "print('Anagram' if list1  == list2 else 'Not a Anagram')\n",
    "\n"
   ]
  },
  {
   "cell_type": "code",
   "execution_count": 26,
   "metadata": {},
   "outputs": [
    {
     "name": "stdout",
     "output_type": "stream",
     "text": [
      "[]\n"
     ]
    }
   ],
   "source": [
    "# list in a Python\n",
    "# list : collection of objects enclosed within square brackets[]\n",
    "st = [23, 4, 5.4, 45+5j, 'hello']\n",
    "st[-1] = 100\n",
    "st.clear()\n",
    "print(st)"
   ]
  },
  {
   "cell_type": "code",
   "execution_count": 28,
   "metadata": {},
   "outputs": [
    {
     "name": "stdout",
     "output_type": "stream",
     "text": [
      "[] <class 'list'>\n"
     ]
    }
   ],
   "source": [
    "# initialization of the list\n",
    "# ls = []  # empty list\n",
    "ls = list()  \n",
    "print(ls, type(ls))"
   ]
  },
  {
   "cell_type": "code",
   "execution_count": null,
   "metadata": {},
   "outputs": [],
   "source": [
    "# palindrome or not\n",
    "s = input()\n",
    "r = s[len(s)::-1]\n",
    "if r==s:\n",
    "    print(\"Palindrome\")\n",
    "else:\n",
    "    print(\"Not palindrome\")"
   ]
  },
  {
   "cell_type": "code",
   "execution_count": 5,
   "metadata": {},
   "outputs": [
    {
     "name": "stdout",
     "output_type": "stream",
     "text": [
      "Ravi <class 'str'>\n"
     ]
    }
   ],
   "source": [
    "# accessing the elements from list\n",
    "info = ['Ravi', 23, 'GLA University', 'Mathura']\n",
    "out = info[0]  # indexing: get the item at position(index)\n",
    "print(out, type(out))"
   ]
  },
  {
   "cell_type": "code",
   "execution_count": 6,
   "metadata": {},
   "outputs": [
    {
     "name": "stdout",
     "output_type": "stream",
     "text": [
      "['Ravi', 23, 'GLA University'] <class 'list'>\n"
     ]
    }
   ],
   "source": [
    "# accessing the elements from list\n",
    "info = ['Ravi', 23, 'GLA University', 'Mathura']\n",
    "out = info[0:3]  # [start:stop:step] slicing range: get the items at given range(index)\n",
    "print(out, type(out))"
   ]
  },
  {
   "cell_type": "code",
   "execution_count": 7,
   "metadata": {},
   "outputs": [
    {
     "name": "stdout",
     "output_type": "stream",
     "text": [
      "[2, 3, 434, 33, 90.44] <class 'list'>\n"
     ]
    }
   ],
   "source": [
    "# how to read the list from user \n",
    "# 1. if user data is in the form of list itself \n",
    "\n",
    "raw_ls = '[2, 3, 434, 33, 90.44]'\n",
    "lst = eval(raw_ls)\n",
    "print(lst, type(lst)) \n"
   ]
  },
  {
   "cell_type": "code",
   "execution_count": 8,
   "metadata": {},
   "outputs": [
    {
     "name": "stdout",
     "output_type": "stream",
     "text": [
      "[23, 4, 2, 89] <class 'list'>\n"
     ]
    }
   ],
   "source": [
    "# how to read the list from user \n",
    "# 2. if user data is in the form of space separated in a single line \n",
    "\n",
    "raw_ls = '23 4 2 89'  # input()\n",
    "lst = list(map(int, raw_ls.split()))\n",
    "print(lst, type(lst)) \n"
   ]
  },
  {
   "cell_type": "code",
   "execution_count": null,
   "metadata": {},
   "outputs": [],
   "source": [
    "4\n",
    "54\n",
    "4\n",
    "5\n",
    "54\n",
    "\n",
    "num = int(input())\n",
    "ls = []\n",
    "for i in range(num):\n",
    "    ls.append(int(input()))\n"
   ]
  }
 ],
 "metadata": {
  "kernelspec": {
   "display_name": "Python 3.10.7 64-bit",
   "language": "python",
   "name": "python3"
  },
  "language_info": {
   "codemirror_mode": {
    "name": "ipython",
    "version": 3
   },
   "file_extension": ".py",
   "mimetype": "text/x-python",
   "name": "python",
   "nbconvert_exporter": "python",
   "pygments_lexer": "ipython3",
   "version": "3.10.7"
  },
  "orig_nbformat": 4,
  "vscode": {
   "interpreter": {
    "hash": "490f1c68ed42f2c5a574e22fb9e03ff49b98516de8582ff1c5d4fb43fb70f61b"
   }
  }
 },
 "nbformat": 4,
 "nbformat_minor": 2
}
