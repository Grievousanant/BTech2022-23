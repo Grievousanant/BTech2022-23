{
 "cells": [
  {
   "cell_type": "code",
   "execution_count": 1,
   "metadata": {},
   "outputs": [],
   "source": [
    "class Node:\n",
    "    def __init__(self, data=None) -> None:\n",
    "        self.data = data\n",
    "        self.next = None\n"
   ]
  },
  {
   "cell_type": "code",
   "execution_count": 11,
   "metadata": {},
   "outputs": [],
   "source": [
    "class linkedList:\n",
    "    def __init__(self) -> None:\n",
    "        self.head = None\n",
    "    # def display(self):\n",
    "    #     data = self.data\n",
    "    #     while data:\n",
    "    #         print(data, end='  ')\n"
   ]
  },
  {
   "cell_type": "code",
   "execution_count": 15,
   "metadata": {},
   "outputs": [],
   "source": [
    "a = linkedList()\n",
    "a.head = Node(100)\n",
    "a.head.next = Node(200)\n",
    "# a.next.next = Node(300)"
   ]
  },
  {
   "cell_type": "code",
   "execution_count": 16,
   "metadata": {},
   "outputs": [
    {
     "ename": "AttributeError",
     "evalue": "'linkedList' object has no attribute 'data'",
     "output_type": "error",
     "traceback": [
      "\u001b[1;31m---------------------------------------------------------------------------\u001b[0m",
      "\u001b[1;31mAttributeError\u001b[0m                            Traceback (most recent call last)",
      "Cell \u001b[1;32mIn [16], line 1\u001b[0m\n\u001b[1;32m----> 1\u001b[0m a\u001b[39m.\u001b[39mdisplay()\n",
      "Cell \u001b[1;32mIn [11], line 5\u001b[0m, in \u001b[0;36mlinkedList.display\u001b[1;34m(self)\u001b[0m\n\u001b[0;32m      4\u001b[0m \u001b[39mdef\u001b[39;00m \u001b[39mdisplay\u001b[39m(\u001b[39mself\u001b[39m):\n\u001b[1;32m----> 5\u001b[0m     data \u001b[39m=\u001b[39m \u001b[39mself\u001b[39;49m\u001b[39m.\u001b[39;49mdata\n\u001b[0;32m      6\u001b[0m     \u001b[39mwhile\u001b[39;00m data:\n\u001b[0;32m      7\u001b[0m         \u001b[39mprint\u001b[39m(data, end\u001b[39m=\u001b[39m\u001b[39m'\u001b[39m\u001b[39m  \u001b[39m\u001b[39m'\u001b[39m)\n",
      "\u001b[1;31mAttributeError\u001b[0m: 'linkedList' object has no attribute 'data'"
     ]
    }
   ],
   "source": [
    "a.display()"
   ]
  },
  {
   "cell_type": "code",
   "execution_count": 18,
   "metadata": {},
   "outputs": [
    {
     "name": "stderr",
     "output_type": "stream",
     "text": [
      "usage: Python Christmas Tree by Chico Lucio from Ciencia Programada\n",
      "       [-h] [-s SIZE] [-w WIDTH] [-t]\n",
      "Python Christmas Tree by Chico Lucio from Ciencia Programada: error: unrecognized arguments: --ip=127.0.0.1 --stdin=9008 --control=9006 --hb=9005 --Session.signature_scheme=\"hmac-sha256\" --Session.key=b\"2239e4e1-6294-4065-b5d2-dd845d79b71a\" --shell=9007 --transport=\"tcp\" --iopub=9009 --f=c:\\Users\\drami\\AppData\\Roaming\\jupyter\\runtime\\kernel-v2-17588GkLgyNUeOgVa.json\n"
     ]
    },
    {
     "ename": "SystemExit",
     "evalue": "2",
     "output_type": "error",
     "traceback": [
      "An exception has occurred, use %tb to see the full traceback.\n",
      "\u001b[1;31mSystemExit\u001b[0m\u001b[1;31m:\u001b[0m 2\n"
     ]
    }
   ],
   "source": [
    "import argparse\n",
    "import os\n",
    "import random\n",
    "import time\n",
    "\n",
    "BALL = '⏺'\n",
    "COLOR = {\n",
    "    'blue': '\\033[94m',\n",
    "    'yellow': '\\033[93m',\n",
    "    'cyan': '\\033[96m',\n",
    "    'green': '\\033[92m',\n",
    "    'magenta': '\\033[95m',\n",
    "    'white': '\\033[97m',\n",
    "    'red': '\\033[91m'\n",
    "}\n",
    "STAR = '★'\n",
    "\n",
    "\n",
    "def random_change_char(string, value):\n",
    "    indexes = random.sample(range(0, len(string)), value)\n",
    "    string = list(string)\n",
    "    for idx in indexes:\n",
    "        if string[idx] != ' ' and string[idx] == '_':\n",
    "            string[idx] = BALL\n",
    "    return ''.join(string)\n",
    "\n",
    "\n",
    "def tree(height=13, screen_width=80):\n",
    "    star = (STAR, 3*STAR)\n",
    "    if height % 2 != 0:\n",
    "        height += 1\n",
    "    body = ['/_\\\\', '/_\\_\\\\']\n",
    "    trunk = '[___]'\n",
    "    begin = '/'\n",
    "    end = '\\\\'\n",
    "    pattern = '_/'\n",
    "    j = 5\n",
    "    for i in range(7, height + 1, 2):\n",
    "        middle = pattern + (i - j) * pattern\n",
    "        line = ''.join([begin, middle[:-1], end])\n",
    "        body.append(line)\n",
    "        middle = middle.replace('/', '\\\\')\n",
    "        line = ''.join([begin, middle[:-1], end])\n",
    "        body.append(line)\n",
    "        j += 1\n",
    "\n",
    "    return [line.center(screen_width) for line in (*star, *body, trunk)]\n",
    "\n",
    "\n",
    "def balls(tree):\n",
    "    for idx, _ in enumerate(tree[:-3], 2):\n",
    "        tree[idx] = random_change_char(tree[idx], len(tree[idx])//8)\n",
    "    return tree\n",
    "\n",
    "\n",
    "def colored_stars_balls(tree):\n",
    "    for idx, _ in enumerate(tree):\n",
    "        string = list(tree[idx])\n",
    "        for pos, _ in enumerate(string):\n",
    "            if string[pos] == STAR:\n",
    "                string[pos] = ''.join([COLOR['yellow'], STAR, '\\033[0m'])\n",
    "            elif string[pos] == BALL:\n",
    "                string[pos] = ''.join([random.choice(list(COLOR.values())), BALL, '\\033[0m'])\n",
    "        tree[idx] = ''.join(string)\n",
    "    return tree\n",
    "\n",
    "\n",
    "def cli():\n",
    "    parser = argparse.ArgumentParser(prog=\"Python Christmas Tree by Chico Lucio from Ciencia Programada\",\n",
    "                                     epilog=\"Ctrl-C interrupts the Christmas :-(\")\n",
    "    parser.add_argument('-s', '--size', default=13, type=int,\n",
    "                        help=\"Tree height. If even it will be subtracted 1. If less than 7, considered 5. Default: 13\")\n",
    "    parser.add_argument('-w', '--width', default=80, type=int,\n",
    "                        help=\"Screen width. Used to center the tree. Default: 80\")\n",
    "    parser.add_argument('-t', '--terminal', action='store_true',\n",
    "                        help=\"Uses the terminal size to center the tree. -s and -w will be ignored\")\n",
    "    args = parser.parse_args()\n",
    "\n",
    "    if args.terminal:\n",
    "        screen_width, height = os.get_terminal_size()\n",
    "        height -= 2\n",
    "    else:\n",
    "        height = args.size\n",
    "        screen_width = args.width\n",
    "    while True:\n",
    "        try:\n",
    "            time.sleep(random.uniform(.1, 1))\n",
    "            os.system('cls' if os.name == 'nt' else 'clear')\n",
    "            print('\\n'.join(colored_stars_balls(balls(tree(height, screen_width)))))\n",
    "        except KeyboardInterrupt:\n",
    "            os.system('cls' if os.name == 'nt' else 'clear')\n",
    "            print(f\"\\n{'Merry Christmas!!':^{screen_width}}\", end='\\n\\n')\n",
    "            break\n",
    "\n",
    "\n",
    "if __name__ == '__main__':\n",
    "    cli()"
   ]
  }
 ],
 "metadata": {
  "kernelspec": {
   "display_name": "Python 3",
   "language": "python",
   "name": "python3"
  },
  "language_info": {
   "codemirror_mode": {
    "name": "ipython",
    "version": 3
   },
   "file_extension": ".py",
   "mimetype": "text/x-python",
   "name": "python",
   "nbconvert_exporter": "python",
   "pygments_lexer": "ipython3",
   "version": "3.10.7"
  },
  "orig_nbformat": 4,
  "vscode": {
   "interpreter": {
    "hash": "490f1c68ed42f2c5a574e22fb9e03ff49b98516de8582ff1c5d4fb43fb70f61b"
   }
  }
 },
 "nbformat": 4,
 "nbformat_minor": 2
}
