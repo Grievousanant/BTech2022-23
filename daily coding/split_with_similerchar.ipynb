{
 "cells": [
  {
   "cell_type": "code",
   "execution_count": 2,
   "metadata": {},
   "outputs": [],
   "source": [
    "st = '12233441'\n",
    "ls = []\n",
    "t = ''\n",
    "for i in range(len(st)-1):\n",
    "    if st[i] == st[i+1]:\n",
    "        t += st[i]\n"
   ]
  },
  {
   "cell_type": "code",
   "execution_count": 12,
   "metadata": {},
   "outputs": [
    {
     "name": "stdout",
     "output_type": "stream",
     "text": [
      "[('1', <itertools._grouper object at 0x00000173CF811090>), ('2', <itertools._grouper object at 0x00000173CF8112A0>), ('3', <itertools._grouper object at 0x00000173D09913C0>), ('4', <itertools._grouper object at 0x00000173D09935E0>), ('1', <itertools._grouper object at 0x00000173D0991FC0>)]\n"
     ]
    }
   ],
   "source": [
    "from itertools import groupby\n",
    "out = list(groupby(st))\n",
    "print(out)\n",
    "# for i, j in out:\n",
    "#     print(i,list(j))\n",
    "# print(''.join(out[1][1]))"
   ]
  },
  {
   "cell_type": "code",
   "execution_count": 14,
   "metadata": {},
   "outputs": [
    {
     "data": {
      "text/plain": [
       "[['A', 'A', 'A', 'A'],\n",
       " ['B', 'B', 'B'],\n",
       " ['C', 'C'],\n",
       " ['D'],\n",
       " ['A', 'A'],\n",
       " ['B', 'B', 'B']]"
      ]
     },
     "execution_count": 14,
     "metadata": {},
     "output_type": "execute_result"
    }
   ],
   "source": [
    "# [list(g) for k, g in groupby('AAAABBBCCDAABBB')]"
   ]
  },
  {
   "cell_type": "code",
   "execution_count": 16,
   "metadata": {},
   "outputs": [],
   "source": [
    "k, g, *c = groupby('abcaac')"
   ]
  },
  {
   "cell_type": "code",
   "execution_count": 19,
   "metadata": {},
   "outputs": [
    {
     "data": {
      "text/plain": [
       "[('c', <itertools._grouper at 0x173d0991c60>),\n",
       " ('a', <itertools._grouper at 0x173d0993eb0>),\n",
       " ('c', <itertools._grouper at 0x173d0992aa0>)]"
      ]
     },
     "execution_count": 19,
     "metadata": {},
     "output_type": "execute_result"
    }
   ],
   "source": [
    "c"
   ]
  }
 ],
 "metadata": {
  "kernelspec": {
   "display_name": "Python 3",
   "language": "python",
   "name": "python3"
  },
  "language_info": {
   "codemirror_mode": {
    "name": "ipython",
    "version": 3
   },
   "file_extension": ".py",
   "mimetype": "text/x-python",
   "name": "python",
   "nbconvert_exporter": "python",
   "pygments_lexer": "ipython3",
   "version": "3.10.7"
  },
  "orig_nbformat": 4,
  "vscode": {
   "interpreter": {
    "hash": "490f1c68ed42f2c5a574e22fb9e03ff49b98516de8582ff1c5d4fb43fb70f61b"
   }
  }
 },
 "nbformat": 4,
 "nbformat_minor": 2
}
