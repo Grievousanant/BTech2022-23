{
 "cells": [
  {
   "cell_type": "code",
   "execution_count": 4,
   "metadata": {},
   "outputs": [
    {
     "name": "stdout",
     "output_type": "stream",
     "text": [
      "Factorial of given number 10 is 3628800\n"
     ]
    }
   ],
   "source": [
    "# factorial with recursion\n",
    "def fact(n):\n",
    "    if n == 1:\n",
    "        return 1\n",
    "    return n * fact(n-1)\n",
    "# main code\n",
    "num = int(input())\n",
    "out = fact(num)\n",
    "\n",
    "print(f'Factorial of given number {num} is {out}')"
   ]
  },
  {
   "cell_type": "code",
   "execution_count": null,
   "metadata": {},
   "outputs": [],
   "source": [
    "# display fibonacci seroies upto n\n",
    "def fibonacci(n):\n",
    "    pass\n",
    "\n",
    "\n",
    "n = 5\n",
    "out = fibonacci(n)\n",
    "\n"
   ]
  },
  {
   "cell_type": "code",
   "execution_count": 13,
   "metadata": {},
   "outputs": [],
   "source": [
    "class node:\n",
    "    def __init__(self, data=None) -> None:\n",
    "        self.data = data\n",
    "        self.next = None\n"
   ]
  },
  {
   "cell_type": "code",
   "execution_count": 14,
   "metadata": {},
   "outputs": [],
   "source": [
    "class linkedList(node):\n",
    "    def __init__(self) -> None:\n",
    "        self.head = None\n",
    "\n",
    "    def append_value(self, data):\n",
    "        new_node = node(data)\n",
    "        new_node.next = self.head\n",
    "        self.head = new_node \n",
    "\n",
    "    def __str__(self):\n",
    "        st = '['\n",
    "        data = self.next\n",
    "        while data is not None:\n",
    "            st += str(data)\n",
    "            data = data.next\n",
    "        return st + ']'    \n",
    "        "
   ]
  },
  {
   "cell_type": "code",
   "execution_count": 15,
   "metadata": {},
   "outputs": [
    {
     "ename": "AttributeError",
     "evalue": "'linkedList' object has no attribute 'next'",
     "output_type": "error",
     "traceback": [
      "\u001b[1;31m---------------------------------------------------------------------------\u001b[0m",
      "\u001b[1;31mAttributeError\u001b[0m                            Traceback (most recent call last)",
      "Cell \u001b[1;32mIn [15], line 3\u001b[0m\n\u001b[0;32m      1\u001b[0m a \u001b[39m=\u001b[39m linkedList()\n\u001b[0;32m      2\u001b[0m a\u001b[39m.\u001b[39mappend_value(\u001b[39m100\u001b[39m)\n\u001b[1;32m----> 3\u001b[0m \u001b[39mprint\u001b[39m(a)\n",
      "Cell \u001b[1;32mIn [14], line 12\u001b[0m, in \u001b[0;36mlinkedList.__str__\u001b[1;34m(self)\u001b[0m\n\u001b[0;32m     10\u001b[0m \u001b[39mdef\u001b[39;00m \u001b[39m__str__\u001b[39m(\u001b[39mself\u001b[39m):\n\u001b[0;32m     11\u001b[0m     st \u001b[39m=\u001b[39m \u001b[39m'\u001b[39m\u001b[39m[\u001b[39m\u001b[39m'\u001b[39m\n\u001b[1;32m---> 12\u001b[0m     data \u001b[39m=\u001b[39m \u001b[39mself\u001b[39;49m\u001b[39m.\u001b[39;49mnext\n\u001b[0;32m     13\u001b[0m     \u001b[39mwhile\u001b[39;00m data \u001b[39mis\u001b[39;00m \u001b[39mnot\u001b[39;00m \u001b[39mNone\u001b[39;00m:\n\u001b[0;32m     14\u001b[0m         st \u001b[39m+\u001b[39m\u001b[39m=\u001b[39m \u001b[39mstr\u001b[39m(data)\n",
      "\u001b[1;31mAttributeError\u001b[0m: 'linkedList' object has no attribute 'next'"
     ]
    }
   ],
   "source": [
    "a = linkedList()\n",
    "a.append_value(100)\n",
    "print(a)"
   ]
  },
  {
   "cell_type": "code",
   "execution_count": 2,
   "metadata": {},
   "outputs": [],
   "source": [
    "class LinkedList:\n",
    "    def __init__(self) -> None:\n",
    "        self.list = []\n",
    "    \n",
    "    def append_value(self, data):\n",
    "        self.list.append(data)\n",
    "\n",
    "    def __str__(self):\n",
    "        return str(self.list)    \n"
   ]
  },
  {
   "cell_type": "code",
   "execution_count": 3,
   "metadata": {},
   "outputs": [
    {
     "name": "stdout",
     "output_type": "stream",
     "text": [
      "[100, 200]\n",
      "[]\n"
     ]
    }
   ],
   "source": [
    "ls = LinkedList()\n",
    "ls2 = LinkedList()\n",
    "ls.append_value(100)\n",
    "ls.append_value(200)\n",
    "print(ls)\n",
    "print(ls2)"
   ]
  }
 ],
 "metadata": {
  "kernelspec": {
   "display_name": "Python 3",
   "language": "python",
   "name": "python3"
  },
  "language_info": {
   "codemirror_mode": {
    "name": "ipython",
    "version": 3
   },
   "file_extension": ".py",
   "mimetype": "text/x-python",
   "name": "python",
   "nbconvert_exporter": "python",
   "pygments_lexer": "ipython3",
   "version": "3.10.7"
  },
  "orig_nbformat": 4,
  "vscode": {
   "interpreter": {
    "hash": "490f1c68ed42f2c5a574e22fb9e03ff49b98516de8582ff1c5d4fb43fb70f61b"
   }
  }
 },
 "nbformat": 4,
 "nbformat_minor": 2
}
