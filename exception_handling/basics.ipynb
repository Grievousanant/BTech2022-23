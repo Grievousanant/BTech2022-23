{
 "cells": [
  {
   "cell_type": "code",
   "execution_count": null,
   "metadata": {},
   "outputs": [],
   "source": [
    "# Exception Handling \n",
    "'''\n",
    "Type of Error\n",
    "1. Syntax Error: Error before the run the program or \n",
    "errors in programming structure\n",
    "2. Exceptions(Run Time Error): Error after run the program \n",
    "3. Logical Error: Incorrect Output(accuracy of the output)/ part of testing\n",
    "'''"
   ]
  },
  {
   "cell_type": "code",
   "execution_count": 7,
   "metadata": {},
   "outputs": [
    {
     "name": "stdout",
     "output_type": "stream",
     "text": [
      "Invalid Operation\n"
     ]
    }
   ],
   "source": [
    "a = 12\n",
    "b = [123]\n",
    "try:\n",
    "    out = a + b\n",
    "    print(out)\n",
    "except:\n",
    "    print('Invalid Operation')    "
   ]
  },
  {
   "cell_type": "code",
   "execution_count": 14,
   "metadata": {},
   "outputs": [
    {
     "name": "stdout",
     "output_type": "stream",
     "text": [
      "Error Handeled division by zero\n"
     ]
    }
   ],
   "source": [
    "try:\n",
    "    out = 12 / 0\n",
    "    print(out)\n",
    "except ZeroDivisionError as e:\n",
    "    print('Error Handeled', e)"
   ]
  },
  {
   "cell_type": "code",
   "execution_count": 16,
   "metadata": {},
   "outputs": [
    {
     "ename": "TypeError",
     "evalue": "unsupported operand type(s) for +: 'int' and 'str'",
     "output_type": "error",
     "traceback": [
      "\u001b[1;31m---------------------------------------------------------------------------\u001b[0m",
      "\u001b[1;31mTypeError\u001b[0m                                 Traceback (most recent call last)",
      "Cell \u001b[1;32mIn [16], line 1\u001b[0m\n\u001b[1;32m----> 1\u001b[0m \u001b[39m4\u001b[39m \u001b[39m+\u001b[39m \u001b[39m'\u001b[39m\u001b[39mhello\u001b[39m\u001b[39m'\u001b[39m\n",
      "\u001b[1;31mTypeError\u001b[0m: unsupported operand type(s) for +: 'int' and 'str'"
     ]
    }
   ],
   "source": [
    "4 + 'hello'"
   ]
  },
  {
   "cell_type": "code",
   "execution_count": 3,
   "metadata": {},
   "outputs": [
    {
     "name": "stdout",
     "output_type": "stream",
     "text": [
      "2.3\n"
     ]
    }
   ],
   "source": [
    "# division of two number \n",
    "num1 = 23\n",
    "num2 = 10\n",
    "\n",
    "# operation\n",
    "try:\n",
    "    out = num1 / num2\n",
    "except:\n",
    "    out = None \n",
    "    print('Invalid Operation')   \n",
    "\n",
    "# output section\n",
    "print(out)"
   ]
  },
  {
   "cell_type": "code",
   "execution_count": 22,
   "metadata": {},
   "outputs": [
    {
     "name": "stdout",
     "output_type": "stream",
     "text": [
      "Start of the program \n",
      "Invalid Integer\n",
      "End of the Program\n"
     ]
    }
   ],
   "source": [
    "# user input\n",
    "print('Start of the program ')\n",
    "while True:\n",
    "    try:\n",
    "        num = int(input('Enter the integer value '))\n",
    "        print('User Integer Value', num)\n",
    "        break\n",
    "    except:\n",
    "        print('Invalid Integer')\n",
    "        print('try again')    \n",
    "\n",
    "\n",
    "print('End of the Program')"
   ]
  },
  {
   "cell_type": "code",
   "execution_count": null,
   "metadata": {},
   "outputs": [],
   "source": [
    "'''\n",
    "(1)\n",
    "try:\n",
    "    # lines\n",
    "except:\n",
    "    # lines\n",
    "\n",
    "\n",
    "(2)\n",
    "try:\n",
    "    # lines\n",
    "except:\n",
    "    # lines\n",
    "else:\n",
    "    # lines\n",
    "\n",
    "(3)\n",
    "try:\n",
    "    # lines\n",
    "except:\n",
    "    # lines\n",
    "finally:\n",
    "    # lines\n",
    "\n",
    "(4):\n",
    "try:\n",
    "    # lines\n",
    "except:\n",
    "    # lines\n",
    "else:\n",
    "    # lines\n",
    "finally:\n",
    "    #lines\n",
    "\n",
    "(5)\n",
    "try:\n",
    "    # lines\n",
    "finally:\n",
    "    # lines\n",
    "'''"
   ]
  },
  {
   "cell_type": "code",
   "execution_count": null,
   "metadata": {},
   "outputs": [],
   "source": []
  }
 ],
 "metadata": {
  "kernelspec": {
   "display_name": "Python 3",
   "language": "python",
   "name": "python3"
  },
  "language_info": {
   "codemirror_mode": {
    "name": "ipython",
    "version": 3
   },
   "file_extension": ".py",
   "mimetype": "text/x-python",
   "name": "python",
   "nbconvert_exporter": "python",
   "pygments_lexer": "ipython3",
   "version": "3.10.7 (tags/v3.10.7:6cc6b13, Sep  5 2022, 14:08:36) [MSC v.1933 64 bit (AMD64)]"
  },
  "orig_nbformat": 4,
  "vscode": {
   "interpreter": {
    "hash": "490f1c68ed42f2c5a574e22fb9e03ff49b98516de8582ff1c5d4fb43fb70f61b"
   }
  }
 },
 "nbformat": 4,
 "nbformat_minor": 2
}
