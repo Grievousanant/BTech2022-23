{
 "cells": [
  {
   "cell_type": "code",
   "execution_count": 1,
   "metadata": {},
   "outputs": [],
   "source": [
    "#Function to find distance of nearest 1 in the grid for each cell.\n",
    "class solution:\n",
    "\n",
    "    def find_nearest(self, grid, i, j):\n",
    "        m=len(grid)\n",
    "        n=len(grid[0])\n",
    "        min_dist=float('inf')\n",
    "        for x in range(m):\n",
    "            for y in range(n):\n",
    "                if grid[x][y]==1:\n",
    "                    dist=abs(x-i)+abs(y-j)\n",
    "                    if dist<min_dist:\n",
    "                        min_dist=dist\n",
    "        return min_dist\n",
    "\n",
    "    def nearest(self,grid):\n",
    "        m=len(grid)\n",
    "        n=len(grid[0])\n",
    "        result=[[0 for i in range(n)] for j in range(m)]\n",
    "        for i in range(m):\n",
    "            for j in range(n):\n",
    "                if grid[i][j]==1:\n",
    "                    result[i][j]=0\n",
    "                else:\n",
    "                    result[i][j]=self.find_nearest(grid,i,j)\n",
    "        return result\n",
    "\n"
   ]
  }
 ],
 "metadata": {
  "kernelspec": {
   "display_name": "Python 3.10.7 64-bit",
   "language": "python",
   "name": "python3"
  },
  "language_info": {
   "codemirror_mode": {
    "name": "ipython",
    "version": 3
   },
   "file_extension": ".py",
   "mimetype": "text/x-python",
   "name": "python",
   "nbconvert_exporter": "python",
   "pygments_lexer": "ipython3",
   "version": "3.10.7"
  },
  "orig_nbformat": 4,
  "vscode": {
   "interpreter": {
    "hash": "490f1c68ed42f2c5a574e22fb9e03ff49b98516de8582ff1c5d4fb43fb70f61b"
   }
  }
 },
 "nbformat": 4,
 "nbformat_minor": 2
}
