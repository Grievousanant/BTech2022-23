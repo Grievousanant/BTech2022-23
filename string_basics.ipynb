{
 "cells": [
  {
   "cell_type": "code",
   "execution_count": 11,
   "metadata": {},
   "outputs": [
    {
     "name": "stdout",
     "output_type": "stream",
     "text": [
      "hello\n",
      "world\n",
      "Python class\n"
     ]
    }
   ],
   "source": [
    "a = \"\"\"hello\n",
    "world\n",
    "Python class\"\"\"\n",
    "print(a)"
   ]
  },
  {
   "cell_type": "code",
   "execution_count": 25,
   "metadata": {},
   "outputs": [
    {
     "ename": "IndexError",
     "evalue": "string index out of range",
     "output_type": "error",
     "traceback": [
      "\u001b[1;31m---------------------------------------------------------------------------\u001b[0m",
      "\u001b[1;31mIndexError\u001b[0m                                Traceback (most recent call last)",
      "Cell \u001b[1;32mIn [25], line 4\u001b[0m\n\u001b[0;32m      2\u001b[0m st \u001b[39m=\u001b[39m \u001b[39m'\u001b[39m\u001b[39mhello world\u001b[39m\u001b[39m'\u001b[39m\n\u001b[0;32m      3\u001b[0m \u001b[39m# pos = int(input('Enter the position'))\u001b[39;00m\n\u001b[1;32m----> 4\u001b[0m out \u001b[39m=\u001b[39m st[\u001b[39m-\u001b[39m\u001b[39m12\u001b[39m]\n\u001b[0;32m      5\u001b[0m \u001b[39mprint\u001b[39m(out)\n",
      "\u001b[1;31mIndexError\u001b[0m: string index out of range"
     ]
    }
   ],
   "source": [
    "# accessing the element from string\n",
    "# indexing: get the element with index\n",
    "st = 'hello world'\n",
    "# pos = int(input('Enter the position'))\n",
    "out = st[-12]\n",
    "print(out)"
   ]
  },
  {
   "cell_type": "code",
   "execution_count": 55,
   "metadata": {},
   "outputs": [
    {
     "name": "stdout",
     "output_type": "stream",
     "text": [
      "el ol\n"
     ]
    }
   ],
   "source": [
    "# accessing the element from string\n",
    "# slicing: get the subsequence with range\n",
    "st = 'hello world'\n",
    "out = st[1::2]  # start=  , stop=  , step=1\n",
    "print(out)\n"
   ]
  },
  {
   "cell_type": "code",
   "execution_count": 34,
   "metadata": {},
   "outputs": [
    {
     "name": "stdout",
     "output_type": "stream",
     "text": [
      "dlrow olleh\n"
     ]
    }
   ],
   "source": [
    "# slicing with negative step size \n",
    "st = 'hello world'\n",
    "out = st[::-1]  # [start=5:stop=1:step=1]\n",
    "print(out)\n"
   ]
  },
  {
   "cell_type": "code",
   "execution_count": 35,
   "metadata": {},
   "outputs": [
    {
     "name": "stdout",
     "output_type": "stream",
     "text": [
      "palindrome\n"
     ]
    }
   ],
   "source": [
    "# program to check palindrome string\n",
    "st = input()\n",
    "out = st[::-1]\n",
    "if out == st:\n",
    "   print(\"palindrome\")\n",
    "else:\n",
    "  print(\"not palindrome\")"
   ]
  },
  {
   "cell_type": "code",
   "execution_count": 32,
   "metadata": {},
   "outputs": [
    {
     "name": "stdout",
     "output_type": "stream",
     "text": [
      "[5, 4, 3, 2]\n"
     ]
    }
   ],
   "source": [
    "ls = range(5, 1, -1)\n",
    "print(list(ls))"
   ]
  },
  {
   "cell_type": "code",
   "execution_count": 54,
   "metadata": {},
   "outputs": [
    {
     "data": {
      "text/plain": [
       "'10100'"
      ]
     },
     "execution_count": 54,
     "metadata": {},
     "output_type": "execute_result"
    }
   ],
   "source": [
    "bin(20)[2:]"
   ]
  },
  {
   "cell_type": "code",
   "execution_count": 12,
   "metadata": {},
   "outputs": [
    {
     "name": "stdout",
     "output_type": "stream",
     "text": [
      "False\n"
     ]
    }
   ],
   "source": [
    "# membership opertor(in)\n",
    "b = [34, 3.5, 'hello', 23+5j]\n",
    "out = 34 not in b\n",
    "print(out)"
   ]
  },
  {
   "cell_type": "code",
   "execution_count": 21,
   "metadata": {},
   "outputs": [
    {
     "name": "stdout",
     "output_type": "stream",
     "text": [
      "True\n"
     ]
    }
   ],
   "source": [
    "# identity operator\n",
    "a = 34\n",
    "b = 34.0\n",
    "out = a is not b\n",
    "print(out)\n",
    "# print(id(a))\n",
    "# print(id(b))"
   ]
  },
  {
   "cell_type": "code",
   "execution_count": 36,
   "metadata": {},
   "outputs": [
    {
     "name": "stdout",
     "output_type": "stream",
     "text": [
      "Hello world\n"
     ]
    }
   ],
   "source": [
    "# methods in string \n",
    "# 1. capitalize()\n",
    "st = 'hello world'\n",
    "out = st.capitalize()\n",
    "print(out)"
   ]
  },
  {
   "cell_type": "code",
   "execution_count": 43,
   "metadata": {},
   "outputs": [
    {
     "name": "stdout",
     "output_type": "stream",
     "text": [
      "lower case: hello world 232\n",
      "upper case: HELLO WORLD 232\n"
     ]
    }
   ],
   "source": [
    "# 2. lower()/upper()\n",
    "st = 'HellO WorLd 232'\n",
    "out1 = st.lower()\n",
    "out2 = st.upper()\n",
    "print('lower case:', out1)\n",
    "print('upper case:', out2)"
   ]
  },
  {
   "cell_type": "code",
   "execution_count": 49,
   "metadata": {},
   "outputs": [
    {
     "name": "stdout",
     "output_type": "stream",
     "text": [
      "Welcome 5G Network\n"
     ]
    }
   ],
   "source": [
    "# 3. title()\n",
    "# st = 'hello 3python programming'\n",
    "st = 'welcome 5g network'\n",
    "out = st.title()\n",
    "print(out)"
   ]
  },
  {
   "cell_type": "code",
   "execution_count": 51,
   "metadata": {},
   "outputs": [
    {
     "name": "stdout",
     "output_type": "stream",
     "text": [
      "lower case: hello world 232\n"
     ]
    }
   ],
   "source": [
    "# 2. lower()/upper()\n",
    "st = 'HellO WorLd 232'\n",
    "out1 = st.casefold()\n",
    "print('lower case:', out1)"
   ]
  },
  {
   "cell_type": "code",
   "execution_count": 59,
   "metadata": {},
   "outputs": [
    {
     "name": "stdout",
     "output_type": "stream",
     "text": [
      "False\n"
     ]
    }
   ],
   "source": [
    "st = 'Hello'\n",
    "out = st.isalpha()\n",
    "print(out)"
   ]
  },
  {
   "cell_type": "code",
   "execution_count": 46,
   "metadata": {},
   "outputs": [
    {
     "name": "stdout",
     "output_type": "stream",
     "text": [
      "Congrats dolly\n"
     ]
    }
   ],
   "source": [
    "name = input('Enter the name').lower()\n",
    "if name == 'dolly':\n",
    "    print('Congrats', name)\n"
   ]
  },
  {
   "cell_type": "code",
   "execution_count": null,
   "metadata": {},
   "outputs": [],
   "source": [
    "ch = input().lower()\n",
    "if ch in 'aeiou':\n",
    "    print('Vowel')\n"
   ]
  },
  {
   "cell_type": "code",
   "execution_count": 64,
   "metadata": {},
   "outputs": [
    {
     "name": "stdout",
     "output_type": "stream",
     "text": [
      "Hello world\n"
     ]
    }
   ],
   "source": [
    "# methods in string \n",
    "# 1. capitalize()\n",
    "st = 'hello world'\n",
    "out = st.capitalize()\n",
    "print(out)"
   ]
  },
  {
   "cell_type": "code",
   "execution_count": 66,
   "metadata": {},
   "outputs": [
    {
     "name": "stdout",
     "output_type": "stream",
     "text": [
      "HELLO WORLD @2\n",
      "hello world @2\n",
      "hello world @2\n"
     ]
    }
   ],
   "source": [
    "# 2. lower()/upper()/casefold()\n",
    "st = 'Hello WorLd @2'\n",
    "out1 = st.upper()\n",
    "out2 = st.lower()\n",
    "out3 = st.casefold()\n",
    "print(out1, out2, out3, sep='\\n')"
   ]
  },
  {
   "cell_type": "code",
   "execution_count": 68,
   "metadata": {},
   "outputs": [
    {
     "name": "stdout",
     "output_type": "stream",
     "text": [
      "Congrats rakesh\n"
     ]
    }
   ],
   "source": [
    "name = input('Enter the name ').lower()\n",
    "if name == 'rakesh':\n",
    "    print('Congrats', name)"
   ]
  },
  {
   "cell_type": "code",
   "execution_count": null,
   "metadata": {},
   "outputs": [],
   "source": [
    "# check given string is palindrome or not\n",
    "st = input('Enter the number')\n",
    "# st = 'naman'\n",
    "rt = st[::-1]\n",
    "if st == rt:\n",
    "    print('Palindrome')\n",
    "else:\n",
    "    print('Not a palindrome')    \n"
   ]
  },
  {
   "cell_type": "code",
   "execution_count": 71,
   "metadata": {},
   "outputs": [
    {
     "name": "stdout",
     "output_type": "stream",
     "text": [
      "Welcome 5G Network\n"
     ]
    }
   ],
   "source": [
    "# 5. title()\n",
    "# st = 'hello python 23programming'\n",
    "st = 'welcome 5g network'\n",
    "out = st.title()\n",
    "print(out)"
   ]
  },
  {
   "cell_type": "code",
   "execution_count": 76,
   "metadata": {},
   "outputs": [
    {
     "name": "stdout",
     "output_type": "stream",
     "text": [
      "True\n"
     ]
    }
   ],
   "source": [
    "# isupper()/islower()/istitle()/isalnum()/isdigit()\n",
    "st = 'dsf'\n",
    "out = st.islower()\n",
    "print(out)"
   ]
  },
  {
   "cell_type": "code",
   "execution_count": 85,
   "metadata": {},
   "outputs": [
    {
     "name": "stdout",
     "output_type": "stream",
     "text": [
      "0\n"
     ]
    }
   ],
   "source": [
    "# methods which return integer only\n",
    "# count()\n",
    "st = 'hello python programming'\n",
    "out = st.count('python  ')\n",
    "print(out)"
   ]
  },
  {
   "cell_type": "code",
   "execution_count": 90,
   "metadata": {},
   "outputs": [
    {
     "name": "stdout",
     "output_type": "stream",
     "text": [
      "8\n"
     ]
    }
   ],
   "source": [
    "# index()/rindex()\n",
    "st = 'hello world'\n",
    "out = st.rindex('r')\n",
    "print(out)"
   ]
  },
  {
   "cell_type": "code",
   "execution_count": 98,
   "metadata": {},
   "outputs": [
    {
     "ename": "ValueError",
     "evalue": "substring not found",
     "output_type": "error",
     "traceback": [
      "\u001b[1;31m---------------------------------------------------------------------------\u001b[0m",
      "\u001b[1;31mValueError\u001b[0m                                Traceback (most recent call last)",
      "Cell \u001b[1;32mIn [98], line 3\u001b[0m\n\u001b[0;32m      1\u001b[0m \u001b[39m# find()/rfind()\u001b[39;00m\n\u001b[0;32m      2\u001b[0m st \u001b[39m=\u001b[39m \u001b[39m'\u001b[39m\u001b[39mhello world hello\u001b[39m\u001b[39m'\u001b[39m\n\u001b[1;32m----> 3\u001b[0m out \u001b[39m=\u001b[39m st\u001b[39m.\u001b[39mindex(\u001b[39m'\u001b[39m\u001b[39mlloo\u001b[39m\u001b[39m'\u001b[39m)\n\u001b[0;32m      4\u001b[0m \u001b[39mprint\u001b[39m(out)\n",
      "\u001b[1;31mValueError\u001b[0m: substring not found"
     ]
    }
   ],
   "source": [
    "# find()/rfind()\n",
    "st = 'hello world hello'\n",
    "out = st.find('lloo')\n",
    "print(out)"
   ]
  }
 ],
 "metadata": {
  "kernelspec": {
   "display_name": "Python 3.10.7 64-bit",
   "language": "python",
   "name": "python3"
  },
  "language_info": {
   "codemirror_mode": {
    "name": "ipython",
    "version": 3
   },
   "file_extension": ".py",
   "mimetype": "text/x-python",
   "name": "python",
   "nbconvert_exporter": "python",
   "pygments_lexer": "ipython3",
   "version": "3.10.7"
  },
  "orig_nbformat": 4,
  "vscode": {
   "interpreter": {
    "hash": "490f1c68ed42f2c5a574e22fb9e03ff49b98516de8582ff1c5d4fb43fb70f61b"
   }
  }
 },
 "nbformat": 4,
 "nbformat_minor": 2
}
