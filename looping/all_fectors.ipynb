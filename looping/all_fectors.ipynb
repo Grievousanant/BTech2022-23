{
 "cells": [
  {
   "cell_type": "code",
   "execution_count": 9,
   "metadata": {},
   "outputs": [
    {
     "name": "stdout",
     "output_type": "stream",
     "text": [
      "3\n"
     ]
    }
   ],
   "source": [
    "# num = int(input(''))\n",
    "num = 4\n",
    "k=0\n",
    "for i in range(1, num+1):\n",
    "    if num % i == 0:\n",
    "        k+=1\n",
    "if(k==2):\n",
    "    print(\"prime no.\")\n",
    "else:\n",
    "    print(\"not a primeno.\")\n",
    "         \n",
    "# output  1, 2, 3, 4, 6, 12"
   ]
  },
  {
   "cell_type": "code",
   "execution_count": 14,
   "metadata": {},
   "outputs": [
    {
     "name": "stdout",
     "output_type": "stream",
     "text": [
      "6\n"
     ]
    }
   ],
   "source": [
    "# sum of all the divisors\n",
    "# num=int(input(\"Enter a no.:\"))\n",
    "num = 12\n",
    "s=0\n",
    "for i in range(1, num):\n",
    "    if num%i==0:\n",
    "        s+=i\n",
    "print(s)"
   ]
  }
 ],
 "metadata": {
  "kernelspec": {
   "display_name": "Python 3.10.7 64-bit",
   "language": "python",
   "name": "python3"
  },
  "language_info": {
   "codemirror_mode": {
    "name": "ipython",
    "version": 3
   },
   "file_extension": ".py",
   "mimetype": "text/x-python",
   "name": "python",
   "nbconvert_exporter": "python",
   "pygments_lexer": "ipython3",
   "version": "3.10.7"
  },
  "orig_nbformat": 4,
  "vscode": {
   "interpreter": {
    "hash": "490f1c68ed42f2c5a574e22fb9e03ff49b98516de8582ff1c5d4fb43fb70f61b"
   }
  }
 },
 "nbformat": 4,
 "nbformat_minor": 2
}
