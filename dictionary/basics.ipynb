{
 "cells": [
  {
   "cell_type": "code",
   "execution_count": 13,
   "metadata": {},
   "outputs": [
    {
     "name": "stdout",
     "output_type": "stream",
     "text": [
      "21\n"
     ]
    }
   ],
   "source": [
    "# dictionary : Unordered collection of items,each item is the pair of key and value\n",
    "\n",
    "info = { 'marks':{'math':23, 'python':21, 'english':28, 'physics':24}, \n",
    "            'section':'4B', 'college':'GLA', 'spi':7.4, 'name':'Ruchi', 'rolln':34}\n",
    "\n",
    "out = info['marks']['python']\n",
    "print(out)\n",
    "# print(info)"
   ]
  },
  {
   "cell_type": "code",
   "execution_count": 22,
   "metadata": {},
   "outputs": [],
   "source": [
    "# dictionary : unordered collection of items \n",
    "info = {'name':'krish', 'rolln':44, 'section':'5B', 'marks':{'math':28, 'python':25, 'english':21, 'physics':28}, 'college':'GLA'}\n",
    "# out = info[1]\n",
    "\n",
    "# print(out)"
   ]
  },
  {
   "cell_type": "code",
   "execution_count": 25,
   "metadata": {},
   "outputs": [
    {
     "name": "stdout",
     "output_type": "stream",
     "text": [
      "25\n"
     ]
    }
   ],
   "source": [
    "out = info['marks']['python']\n",
    "print(out)"
   ]
  }
 ],
 "metadata": {
  "kernelspec": {
   "display_name": "Python 3",
   "language": "python",
   "name": "python3"
  },
  "language_info": {
   "codemirror_mode": {
    "name": "ipython",
    "version": 3
   },
   "file_extension": ".py",
   "mimetype": "text/x-python",
   "name": "python",
   "nbconvert_exporter": "python",
   "pygments_lexer": "ipython3",
   "version": "3.10.7"
  },
  "orig_nbformat": 4,
  "vscode": {
   "interpreter": {
    "hash": "490f1c68ed42f2c5a574e22fb9e03ff49b98516de8582ff1c5d4fb43fb70f61b"
   }
  }
 },
 "nbformat": 4,
 "nbformat_minor": 2
}
