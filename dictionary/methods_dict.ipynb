{
 "cells": [
  {
   "cell_type": "code",
   "execution_count": 3,
   "metadata": {},
   "outputs": [
    {
     "name": "stdout",
     "output_type": "stream",
     "text": [
      "{} <class 'dict'>\n"
     ]
    }
   ],
   "source": [
    "# dictionary in Python: \n",
    "'''Unordered collection of items and \n",
    "each item is the pair of key and value\n",
    "'''\n",
    "# how to initialize the dictionary\n",
    "dct = {}\n",
    "print(dct, type(dct))\n"
   ]
  },
  {
   "cell_type": "code",
   "execution_count": 10,
   "metadata": {},
   "outputs": [],
   "source": [
    "if dct:  # empty dictionary evalute as a False in bool\n",
    "    print('Hello World')\n"
   ]
  },
  {
   "cell_type": "code",
   "execution_count": 19,
   "metadata": {},
   "outputs": [
    {
     "name": "stdout",
     "output_type": "stream",
     "text": [
      "saket\n"
     ]
    }
   ],
   "source": [
    "# how to access the elements in dictionary \n",
    "info = {'name': 'ravi', 'rolln': 33, 'college': 'GLA', 'name': 'saket'}\n",
    "# print(info)\n",
    "value = info['name']\n",
    "print(value)"
   ]
  },
  {
   "cell_type": "code",
   "execution_count": 15,
   "metadata": {},
   "outputs": [
    {
     "ename": "IndexError",
     "evalue": "list index out of range",
     "output_type": "error",
     "traceback": [
      "\u001b[1;31m---------------------------------------------------------------------------\u001b[0m",
      "\u001b[1;31mIndexError\u001b[0m                                Traceback (most recent call last)",
      "Cell \u001b[1;32mIn [15], line 2\u001b[0m\n\u001b[0;32m      1\u001b[0m ls \u001b[39m=\u001b[39m [\u001b[39m'\u001b[39m\u001b[39mravi\u001b[39m\u001b[39m'\u001b[39m, \u001b[39m34\u001b[39m, \u001b[39m'\u001b[39m\u001b[39mgla\u001b[39m\u001b[39m'\u001b[39m]\n\u001b[1;32m----> 2\u001b[0m value \u001b[39m=\u001b[39m ls[\u001b[39m3\u001b[39m]\n\u001b[0;32m      3\u001b[0m \u001b[39mprint\u001b[39m(value)\n",
      "\u001b[1;31mIndexError\u001b[0m: list index out of range"
     ]
    }
   ],
   "source": [
    "ls = ['ravi', 34, 'gla']\n",
    "value = ls[3]\n",
    "print(value)"
   ]
  },
  {
   "cell_type": "code",
   "execution_count": 24,
   "metadata": {},
   "outputs": [
    {
     "name": "stdout",
     "output_type": "stream",
     "text": [
      "var {'name': 'saket', 'rolln': 34, 'college': 'GLA'} 1780257653376\n",
      "info {'name': 'Ravi', 'rolln': 34, 'college': 'GLA'} 1778137489024\n"
     ]
    }
   ],
   "source": [
    "# methods in a dictionary object \n",
    "# copy(): return shallow copy of the dictinary object\n",
    "info = {'name': 'Ravi', 'rolln': 34, 'college': 'GLA'}\n",
    "var = info.copy()\n",
    "var['name'] = 'saket'\n",
    "\n",
    "print('var', var, id(var))\n",
    "print('info', info, id(info))\n"
   ]
  },
  {
   "cell_type": "code",
   "execution_count": 42,
   "metadata": {},
   "outputs": [
    {
     "name": "stdout",
     "output_type": "stream",
     "text": [
      "Ravi\n"
     ]
    }
   ],
   "source": [
    "# get(): return the value of the given key \n",
    "'return default value if key is not found'\n",
    "info = {'name': 'Ravi', 'rolln': 34, 'college': 'GLA', 'cpi':8.5}\n",
    "# var = info.get('mob', 'NA')\n",
    "var = info['name']\n",
    "print(var)\n",
    "\n"
   ]
  },
  {
   "cell_type": "code",
   "execution_count": 41,
   "metadata": {},
   "outputs": [
    {
     "name": "stdout",
     "output_type": "stream",
     "text": [
      "{}\n"
     ]
    }
   ],
   "source": [
    "# clear(): remove all the keys from dictionary object\n",
    "info = {'name': 'Ravi', 'rolln': 34, 'college': 'GLA'}\n",
    "info.clear()\n",
    "print(info)"
   ]
  },
  {
   "cell_type": "code",
   "execution_count": 48,
   "metadata": {},
   "outputs": [
    {
     "name": "stdout",
     "output_type": "stream",
     "text": [
      "deleted value Key is not found\n",
      "{'name': 'Ravi', 'rolln': 34, 'college': 'GLA'}\n"
     ]
    }
   ],
   "source": [
    "# pop('key'): remove the given key from dictionary object \n",
    "\n",
    "info = {'name': 'Ravi', 'rolln': 34, 'college': 'GLA'}\n",
    "out = info.pop('address', 'Key is not found')\n",
    "print('deleted value', out)\n",
    "print(info)"
   ]
  },
  {
   "cell_type": "code",
   "execution_count": 51,
   "metadata": {},
   "outputs": [
    {
     "name": "stdout",
     "output_type": "stream",
     "text": [
      "Deleted pair ('college', 'GLA')\n",
      "{'name': 'Ravi', 'rolln': 34}\n"
     ]
    }
   ],
   "source": [
    "# popitems()\n",
    "info = {'name': 'Ravi', 'rolln': 34, 'college': 'GLA'}\n",
    "out = info.popitem()\n",
    "# info.popitem()\n",
    "print('Deleted pair', out)\n",
    "print(info)"
   ]
  },
  {
   "cell_type": "code",
   "execution_count": 54,
   "metadata": {},
   "outputs": [
    {
     "name": "stdout",
     "output_type": "stream",
     "text": [
      "{} <class 'dict'>\n"
     ]
    }
   ],
   "source": [
    "# operations with dictionary object \n",
    "dct = {}\n",
    "print(dct, type(dct))"
   ]
  },
  {
   "cell_type": "code",
   "execution_count": 59,
   "metadata": {},
   "outputs": [
    {
     "name": "stdout",
     "output_type": "stream",
     "text": [
      "HEllo World\n"
     ]
    }
   ],
   "source": [
    "# bool(dct)\n",
    "if {'name': 'Ravi'}:\n",
    "    print('HEllo World')"
   ]
  },
  {
   "cell_type": "code",
   "execution_count": 62,
   "metadata": {},
   "outputs": [
    {
     "name": "stdout",
     "output_type": "stream",
     "text": [
      "{'name': 'Ravi', 'rolln': 34, 'college': 'GLA', 'address': 'GLA UNiversity'}\n"
     ]
    }
   ],
   "source": [
    "info = {'name': 'Ravi', 'rolln': 34, 'college': 'GLA'}\n",
    "# out = info['address']\n",
    "info['address'] = 'GLA UNiversity'\n",
    "print(info)\n"
   ]
  },
  {
   "cell_type": "code",
   "execution_count": 64,
   "metadata": {},
   "outputs": [
    {
     "name": "stdout",
     "output_type": "stream",
     "text": [
      "{'rolln': 34, 'college': 'GLA'}\n"
     ]
    }
   ],
   "source": [
    "# deletion statement in dictinary object \n",
    "info = {'name': 'Ravi', 'rolln': 34, 'college': 'GLA'}\n",
    "del info['name']\n",
    "print(info)"
   ]
  },
  {
   "cell_type": "code",
   "execution_count": 67,
   "metadata": {},
   "outputs": [
    {
     "name": "stdout",
     "output_type": "stream",
     "text": [
      "{'name': 'saket', 'rolln': 34, 'college': 'GLA'}\n"
     ]
    }
   ],
   "source": [
    "# item assignment \n",
    "info = {'name': 'Ravi', 'rolln': 34, 'college': 'GLA'}\n",
    "info['name'] = 'saket'\n",
    "print(info) "
   ]
  },
  {
   "cell_type": "code",
   "execution_count": 69,
   "metadata": {},
   "outputs": [
    {
     "name": "stdout",
     "output_type": "stream",
     "text": [
      "{'h': 1, 'e': 1, 'l': 3, 'o': 2, ' ': 1, 'w': 1, 'r': 1, 'd': 1}\n"
     ]
    }
   ],
   "source": [
    "st = 'hello world'\n",
    "dct = {}\n",
    "for i in st:\n",
    "    dct[i] = st.count(i)\n",
    "# for i in st:\n",
    "#     if i in dct:\n",
    "#         dct[i] += 1\n",
    "#     else:\n",
    "#         dct[i] = 1\n",
    "print(dct)            "
   ]
  },
  {
   "cell_type": "code",
   "execution_count": 6,
   "metadata": {},
   "outputs": [
    {
     "name": "stdout",
     "output_type": "stream",
     "text": [
      "NA\n"
     ]
    }
   ],
   "source": [
    "# methods in dict\n",
    "# get(key): return the value of the given key if key is found  \n",
    "# retrun default value if key is not found \n",
    "info =  {'rolln': 82, 'marks': [23, 17, 23, 16, 20, 12], 'College':'GLAU', 'name':'yash'}\n",
    "out = info.get('mobile', 'NA')\n",
    "print(out)\n"
   ]
  },
  {
   "cell_type": "code",
   "execution_count": 7,
   "metadata": {},
   "outputs": [
    {
     "name": "stdout",
     "output_type": "stream",
     "text": [
      "{}\n"
     ]
    }
   ],
   "source": [
    "# clear(): remove all the items from dict object\n",
    "info =  {'rolln': 82, 'marks': [23, 17, 23, 16, 20, 12], 'College':'GLAU', 'name':'yash'}\n",
    "info.clear()\n",
    "print(info)"
   ]
  },
  {
   "cell_type": "code",
   "execution_count": 11,
   "metadata": {},
   "outputs": [
    {
     "name": "stdout",
     "output_type": "stream",
     "text": [
      "var 1985860311296 {}\n",
      "info 1985860310144 {'rolln': 82, 'marks': [23, 17, 23, 16, 20, 12], 'College': 'GLAU', 'name': 'yash'}\n"
     ]
    }
   ],
   "source": [
    "# copy(): return the shallow copy of the dict object\n",
    "info =  {'rolln': 82, 'marks': [23, 17, 23, 16, 20, 12], 'College':'GLAU', 'name':'yash'}\n",
    "var = info.copy()\n",
    "# var['rolln'] = 100\n",
    "var.clear()\n",
    "print('var', id(var), var)\n",
    "print('info',id(info) ,info)"
   ]
  },
  {
   "cell_type": "code",
   "execution_count": 20,
   "metadata": {},
   "outputs": [
    {
     "name": "stdout",
     "output_type": "stream",
     "text": [
      "1985888553280 [4, 6]\n",
      "1985888553280 []\n",
      "1985888553280 [100]\n"
     ]
    }
   ],
   "source": [
    "ls = [4, 6]\n",
    "var = ls.copy()\n",
    "print(id(ls), ls)\n",
    "ls.clear()\n",
    "print(id(ls), ls)\n",
    "ls.append(100)\n",
    "print(id(ls), ls)"
   ]
  },
  {
   "cell_type": "code",
   "execution_count": 22,
   "metadata": {},
   "outputs": [
    {
     "data": {
      "text/plain": [
       "[4, 6]"
      ]
     },
     "execution_count": 22,
     "metadata": {},
     "output_type": "execute_result"
    }
   ],
   "source": [
    "var"
   ]
  },
  {
   "cell_type": "code",
   "execution_count": null,
   "metadata": {},
   "outputs": [],
   "source": []
  }
 ],
 "metadata": {
  "kernelspec": {
   "display_name": "Python 3",
   "language": "python",
   "name": "python3"
  },
  "language_info": {
   "codemirror_mode": {
    "name": "ipython",
    "version": 3
   },
   "file_extension": ".py",
   "mimetype": "text/x-python",
   "name": "python",
   "nbconvert_exporter": "python",
   "pygments_lexer": "ipython3",
   "version": "3.10.7"
  },
  "orig_nbformat": 4,
  "vscode": {
   "interpreter": {
    "hash": "490f1c68ed42f2c5a574e22fb9e03ff49b98516de8582ff1c5d4fb43fb70f61b"
   }
  }
 },
 "nbformat": 4,
 "nbformat_minor": 2
}
