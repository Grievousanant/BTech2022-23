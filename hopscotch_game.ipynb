{
 "cells": [
  {
   "cell_type": "code",
   "execution_count": null,
   "metadata": {},
   "outputs": [],
   "source": [
    "\"hopscotch game\"\n",
    "\n",
    "jumps = list(map(int, input().split()))  # [2,3,1,1,4]\n",
    "\n",
    "hop_jump_index = len(jumps) - 1  # 4\n",
    "\n",
    "for i in range(len(jumps)-1, -1, -1):\n",
    "    if i + jumps[i] >= hop_jump_index:\n",
    "        hop_jump_index = i\n",
    "    # print(hop_jump_index)    \n",
    "print(hop_jump_index == 0)     "
   ]
  }
 ],
 "metadata": {
  "kernelspec": {
   "display_name": "Python 3.10.7 64-bit",
   "language": "python",
   "name": "python3"
  },
  "language_info": {
   "name": "python",
   "version": "3.10.7"
  },
  "orig_nbformat": 4,
  "vscode": {
   "interpreter": {
    "hash": "490f1c68ed42f2c5a574e22fb9e03ff49b98516de8582ff1c5d4fb43fb70f61b"
   }
  }
 },
 "nbformat": 4,
 "nbformat_minor": 2
}
