{
 "cells": [
  {
   "cell_type": "code",
   "execution_count": 7,
   "metadata": {},
   "outputs": [
    {
     "name": "stdout",
     "output_type": "stream",
     "text": [
      "2\n",
      "2\t4\t6\t6\n",
      "1\t5\t8\t0\n",
      "1\t2\t4\n"
     ]
    }
   ],
   "source": [
    "# matrix\n",
    "'''\n",
    "3 X 4\n",
    "'''\n",
    "lst = [[2, 4, 6, 6], [1, 5, 8, 0], [1, 2, 4]]\n",
    "data = lst[0][0]\n",
    "print(data)\n",
    "for row in lst:\n",
    "    print(*row, sep='\\t')\n"
   ]
  },
  {
   "cell_type": "code",
   "execution_count": 1,
   "metadata": {},
   "outputs": [],
   "source": [
    "def dimension(arr):\n",
    "    return len(arr), len(arr[0])"
   ]
  },
  {
   "cell_type": "code",
   "execution_count": 4,
   "metadata": {},
   "outputs": [
    {
     "name": "stdout",
     "output_type": "stream",
     "text": [
      "(2, 3)\n"
     ]
    }
   ],
   "source": [
    "mat = [[3, 5, 6], [2, 5]]\n",
    "out = dimension(mat)\n",
    "print(out)"
   ]
  },
  {
   "cell_type": "code",
   "execution_count": 15,
   "metadata": {},
   "outputs": [
    {
     "name": "stdout",
     "output_type": "stream",
     "text": [
      "Dimension of Given Matrix 3 X 3\n",
      "3  5  6\n",
      "2  5  0\n",
      "2  4  2\n"
     ]
    }
   ],
   "source": [
    "def valid_matrix(arr):\n",
    "    ln = len(arr[0])\n",
    "    for r in arr:\n",
    "        if len(r) != ln:\n",
    "            return False\n",
    "    return True        \n",
    "\n",
    "\n",
    "# main code\n",
    "mat = [[3, 5, 6], [2, 5, 0], [2, 4, 2]]\n",
    "if valid_matrix(mat):\n",
    "    print(f'Dimension of Given Matrix {dimension(mat)[0]} X {dimension(mat)[1]}')\n",
    "    for r in mat:\n",
    "        print(*r, sep='  ')\n",
    "else:\n",
    "    print('Invalid Matrix ')        \n"
   ]
  },
  {
   "cell_type": "code",
   "execution_count": 14,
   "metadata": {},
   "outputs": [],
   "source": [
    "def create_matrix(r, c, ele):\n",
    "    return eval(str([[ele]*c]*r))"
   ]
  },
  {
   "cell_type": "code",
   "execution_count": 13,
   "metadata": {},
   "outputs": [
    {
     "name": "stdout",
     "output_type": "stream",
     "text": [
      "100\t1\t1\n",
      "100\t1\t1\n",
      "100\t1\t1\n"
     ]
    }
   ],
   "source": [
    "mat = create_matrix(3,3, 1)\n",
    "mat[0][0] = 100\n",
    "for r in mat:\n",
    "    print(*r, sep='\\t')"
   ]
  }
 ],
 "metadata": {
  "kernelspec": {
   "display_name": "Python 3",
   "language": "python",
   "name": "python3"
  },
  "language_info": {
   "codemirror_mode": {
    "name": "ipython",
    "version": 3
   },
   "file_extension": ".py",
   "mimetype": "text/x-python",
   "name": "python",
   "nbconvert_exporter": "python",
   "pygments_lexer": "ipython3",
   "version": "3.10.7"
  },
  "orig_nbformat": 4,
  "vscode": {
   "interpreter": {
    "hash": "490f1c68ed42f2c5a574e22fb9e03ff49b98516de8582ff1c5d4fb43fb70f61b"
   }
  }
 },
 "nbformat": 4,
 "nbformat_minor": 2
}
