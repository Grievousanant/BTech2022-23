{
 "cells": [
  {
   "cell_type": "code",
   "execution_count": 3,
   "metadata": {},
   "outputs": [
    {
     "name": "stdout",
     "output_type": "stream",
     "text": [
      "navneet\n"
     ]
    }
   ],
   "source": [
    "import random\n",
    "ls = ['navneet', 'akash', 'neelesh', 'arun', 'meet']\n",
    "out = random.choice(ls)\n",
    "print(out)"
   ]
  },
  {
   "cell_type": "code",
   "execution_count": 18,
   "metadata": {},
   "outputs": [],
   "source": [
    "random.seed(100000000)"
   ]
  },
  {
   "cell_type": "code",
   "execution_count": 21,
   "metadata": {},
   "outputs": [
    {
     "data": {
      "text/plain": [
       "0.6332735604470153"
      ]
     },
     "execution_count": 21,
     "metadata": {},
     "output_type": "execute_result"
    }
   ],
   "source": [
    "random.random()"
   ]
  },
  {
   "cell_type": "code",
   "execution_count": 13,
   "metadata": {},
   "outputs": [
    {
     "name": "stdout",
     "output_type": "stream",
     "text": [
      "o\n"
     ]
    }
   ],
   "source": [
    "st = 'hello world'\n",
    "out = random.choice(st)\n",
    "print(out)"
   ]
  },
  {
   "cell_type": "code",
   "execution_count": 25,
   "metadata": {},
   "outputs": [
    {
     "name": "stdout",
     "output_type": "stream",
     "text": [
      "1\n",
      "1\t3\t5\t2\n",
      "4\t1\t0\t1\n",
      "3\t6\t7\t32\n"
     ]
    }
   ],
   "source": [
    "# matrix\n",
    "# example 3 x 4\n",
    "ls = [[1, 3, 5, 2], [4, 1, 0, 1], [3, 6, 7, 32]]\n",
    "# out = ls[0][0]\n",
    "print(out)\n",
    "for i in ls:\n",
    "    print(*i, sep='\\t')"
   ]
  },
  {
   "cell_type": "code",
   "execution_count": 34,
   "metadata": {},
   "outputs": [
    {
     "name": "stdout",
     "output_type": "stream",
     "text": [
      "1\t3\t54\t35\n",
      "2\t4\t5\t8\n",
      "0\t9\t3\t4\n"
     ]
    }
   ],
   "source": [
    "# matrix\n",
    "'''\n",
    "3 x 4\n",
    "'''\n",
    "def valid_matrix(ls):\n",
    "    ln = len(ls[0])\n",
    "    for r in ls:\n",
    "        if len(r) != ln:\n",
    "            return False\n",
    "    return True        \n",
    "\n",
    "\n",
    "ls = [[1, 3, 54, 35], [2, 4, 5, 8], [0, 9, 3, 4]]\n",
    "if valid_matrix(ls):\n",
    "    for row in ls:\n",
    "        print(*row, sep='\\t')\n",
    "else:\n",
    "    print('Invalid Matrix')        "
   ]
  },
  {
   "cell_type": "code",
   "execution_count": 12,
   "metadata": {},
   "outputs": [
    {
     "name": "stdout",
     "output_type": "stream",
     "text": [
      "[[ 4  7  4]\n",
      " [ 6 10 12]]\n"
     ]
    }
   ],
   "source": [
    "# matrix\n",
    "'''3 X 3'''\n",
    "import numpy as np\n",
    "ls1 = [[3, 5, 1], [2, 5, 6]]\n",
    "ls2 = [[1, 2, 3], [4, 5, 6]]\n",
    "arr1 = np.array(ls1)\n",
    "arr2 = np.array(ls2)\n",
    "out = np.add(arr1, arr2)\n",
    "print(out)"
   ]
  },
  {
   "cell_type": "code",
   "execution_count": null,
   "metadata": {},
   "outputs": [],
   "source": []
  }
 ],
 "metadata": {
  "kernelspec": {
   "display_name": "Python 3",
   "language": "python",
   "name": "python3"
  },
  "language_info": {
   "codemirror_mode": {
    "name": "ipython",
    "version": 3
   },
   "file_extension": ".py",
   "mimetype": "text/x-python",
   "name": "python",
   "nbconvert_exporter": "python",
   "pygments_lexer": "ipython3",
   "version": "3.10.7"
  },
  "orig_nbformat": 4,
  "vscode": {
   "interpreter": {
    "hash": "490f1c68ed42f2c5a574e22fb9e03ff49b98516de8582ff1c5d4fb43fb70f61b"
   }
  }
 },
 "nbformat": 4,
 "nbformat_minor": 2
}
