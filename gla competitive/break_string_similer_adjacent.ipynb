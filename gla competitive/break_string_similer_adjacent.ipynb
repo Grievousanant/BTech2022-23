{
 "cells": [
  {
   "cell_type": "code",
   "execution_count": 10,
   "metadata": {},
   "outputs": [
    {
     "name": "stdout",
     "output_type": "stream",
     "text": [
      "1\n",
      "1 1\n",
      "2 1\n",
      "1 2 1 1\n"
     ]
    }
   ],
   "source": [
    "pos = 4\n",
    "st = '1'\n",
    "print(*st)\n",
    "for _ in range(1, pos):\n",
    "    st += '~'\n",
    "    ln = len(st)\n",
    "    tmp = ''\n",
    "    s = ''\n",
    "    for i in range(ln-1):\n",
    "        if st[i] != st[i+1]:\n",
    "            tmp += st[i]\n",
    "            s += str(tmp.count(tmp[0])) + tmp[0]\n",
    "            tmp = ''\n",
    "        else:\n",
    "            tmp += st[i]\n",
    "    print(*s)\n",
    "    st = s        \n"
   ]
  }
 ],
 "metadata": {
  "kernelspec": {
   "display_name": "Python 3",
   "language": "python",
   "name": "python3"
  },
  "language_info": {
   "codemirror_mode": {
    "name": "ipython",
    "version": 3
   },
   "file_extension": ".py",
   "mimetype": "text/x-python",
   "name": "python",
   "nbconvert_exporter": "python",
   "pygments_lexer": "ipython3",
   "version": "3.10.7"
  },
  "orig_nbformat": 4,
  "vscode": {
   "interpreter": {
    "hash": "490f1c68ed42f2c5a574e22fb9e03ff49b98516de8582ff1c5d4fb43fb70f61b"
   }
  }
 },
 "nbformat": 4,
 "nbformat_minor": 2
}
