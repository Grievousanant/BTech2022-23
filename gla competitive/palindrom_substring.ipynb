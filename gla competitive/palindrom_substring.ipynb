{
 "cells": [
  {
   "cell_type": "code",
   "execution_count": 11,
   "metadata": {},
   "outputs": [],
   "source": [
    "class Solution:\n",
    "    def longestPalindrome(self, s: str) -> str:\n",
    "        re = ''\n",
    "        ln = len(s)\n",
    "        for i in range(ln):\n",
    "            for j in range(i, ln):\n",
    "                subst = s[i:j+1]\n",
    "                if subst == subst[::-1]:\n",
    "                    re = subst if len(subst) >= len(re) else re\n",
    "        return re\n"
   ]
  },
  {
   "cell_type": "code",
   "execution_count": 15,
   "metadata": {},
   "outputs": [],
   "source": [
    "class Solution:   \n",
    "    def longestPalindrome(self, s):\n",
    "        if len(s)==0:\n",
    "            return 0\n",
    "        maxLen=1\n",
    "        start=0\n",
    "        for i in range(len(s)):\n",
    "            if i-maxLen >=1 and s[i-maxLen-1:i+1]==s[i-maxLen-1:i+1][::-1]:\n",
    "                start=i-maxLen-1\n",
    "                maxLen+=2\n",
    "                continue\n",
    "            if i-maxLen >=0 and s[i-maxLen:i+1]==s[i-maxLen:i+1][::-1]:\n",
    "                start=i-maxLen\n",
    "                maxLen+=1\n",
    "        return s[start:start+maxLen]"
   ]
  },
  {
   "cell_type": "code",
   "execution_count": 14,
   "metadata": {},
   "outputs": [
    {
     "name": "stdout",
     "output_type": "stream",
     "text": [
      "bb\n"
     ]
    }
   ],
   "source": [
    "class Solution:\n",
    "    def logest_plindrom(self, s):\n",
    "        if len(s) == 0:\n",
    "            return 0\n",
    "        maxlen = 1\n",
    "        start = 0\n",
    "        for i in range(len(s)):\n",
    "            if i - maxlen >= 1 and s[i-maxlen-1:i+1] == s[i-maxlen-1:i+1][::-1]:\n",
    "                start = i - maxlen -1\n",
    "                maxlen += 2\n",
    "                continue\n",
    "            if i - maxlen >= 0 and s[i-maxlen:i+1] == s[i-maxlen:i+1][::-1]:\n",
    "                start = i-maxlen\n",
    "                maxlen += 1\n",
    "        return s[start: start+maxlen]\n",
    "        \n",
    "obj = Solution()\n",
    "st = 'abb'\n",
    "out = obj.logest_plindrom(st)\n",
    "print(out)       "
   ]
  },
  {
   "cell_type": "code",
   "execution_count": 9,
   "metadata": {},
   "outputs": [
    {
     "name": "stdout",
     "output_type": "stream",
     "text": [
      "bb\n"
     ]
    }
   ],
   "source": [
    "obj = Solution()\n",
    "st = 'abb'\n",
    "out = obj.logest_plindrom(st)\n",
    "print(out)"
   ]
  },
  {
   "cell_type": "code",
   "execution_count": 15,
   "metadata": {},
   "outputs": [
    {
     "name": "stdout",
     "output_type": "stream",
     "text": [
      "bb\n"
     ]
    }
   ],
   "source": [
    "class Solution:\n",
    "    def longestPalindrom(self, s):\n",
    "        if len(s) == 0:\n",
    "            return 0\n",
    "        start = 0\n",
    "        maxlen = 1\n",
    "        for i in range(len(s)):\n",
    "            if i - maxlen >= 1 and s[i-maxlen-1: i+1] == s[i-maxlen-1:i+1][::-1]:\n",
    "                start = i - maxlen - 1\n",
    "                maxlen += 2\n",
    "                continue\n",
    "            if i - maxlen >= 0 and s[i-maxlen:i+1] == s[i-maxlen:i+1][::-1]:\n",
    "            \n",
    "                start = i-maxlen\n",
    "                maxlen +=1\n",
    "        return s[start: start+maxlen]  \n",
    "obj = Solution()\n",
    "st = 'abb'\n",
    "out = obj.longestPalindrom(st)\n",
    "print(out)       "
   ]
  }
 ],
 "metadata": {
  "kernelspec": {
   "display_name": "Python 3",
   "language": "python",
   "name": "python3"
  },
  "language_info": {
   "codemirror_mode": {
    "name": "ipython",
    "version": 3
   },
   "file_extension": ".py",
   "mimetype": "text/x-python",
   "name": "python",
   "nbconvert_exporter": "python",
   "pygments_lexer": "ipython3",
   "version": "3.10.7"
  },
  "orig_nbformat": 4,
  "vscode": {
   "interpreter": {
    "hash": "490f1c68ed42f2c5a574e22fb9e03ff49b98516de8582ff1c5d4fb43fb70f61b"
   }
  }
 },
 "nbformat": 4,
 "nbformat_minor": 2
}
