{
 "cells": [
  {
   "cell_type": "code",
   "execution_count": null,
   "metadata": {},
   "outputs": [],
   "source": [
    "# graph transformation \n",
    "# 1. graph transformation with node attributes\n",
    "# 2. graph transformation with edge attributes\n",
    "\n",
    "\n"
   ]
  },
  {
   "cell_type": "code",
   "execution_count": null,
   "metadata": {},
   "outputs": [],
   "source": [
    "# prime \n",
    "# 1. prime number\n",
    "# 2. prime factorization\n",
    "def prime_factorization(n):\n",
    "    \"\"\"\n",
    "    Return a list of prime factors of n.\n",
    "    \"\"\"\n",
    "    factors = []\n",
    "    d = 2\n",
    "    while d * d <= n:\n",
    "        while (n % d) == 0:\n",
    "            factors.append(d)\n",
    "            n //= d\n",
    "        d += 1\n",
    "    if n > 1:\n",
    "        factors.append(n)\n",
    "    return factors\n",
    "\n",
    "# 3. prime factorization with count\n",
    "def prime_factorization_with_count(n):\n",
    "\n",
    "    \"\"\"\n",
    "    Return a list of prime factors of n with count.\n",
    "    \"\"\"\n",
    "    factors = []\n",
    "    d = 2\n",
    "    while d * d <= n:\n",
    "        count = 0\n",
    "        while (n % d) == 0:\n",
    "            count += 1\n",
    "            n //= d\n",
    "        if count > 0:\n",
    "            factors.append((d, count))\n",
    "        d += 1\n",
    "    if n > 1:\n",
    "        factors.append((n, 1))\n",
    "    return factors"
   ]
  }
 ],
 "metadata": {
  "kernelspec": {
   "display_name": "Python 3",
   "language": "python",
   "name": "python3"
  },
  "language_info": {
   "name": "python",
   "version": "3.10.7 (tags/v3.10.7:6cc6b13, Sep  5 2022, 14:08:36) [MSC v.1933 64 bit (AMD64)]"
  },
  "orig_nbformat": 4,
  "vscode": {
   "interpreter": {
    "hash": "490f1c68ed42f2c5a574e22fb9e03ff49b98516de8582ff1c5d4fb43fb70f61b"
   }
  }
 },
 "nbformat": 4,
 "nbformat_minor": 2
}
