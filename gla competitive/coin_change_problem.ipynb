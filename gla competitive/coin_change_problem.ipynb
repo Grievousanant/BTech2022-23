{
 "cells": [
  {
   "cell_type": "code",
   "execution_count": 2,
   "metadata": {},
   "outputs": [
    {
     "name": "stdout",
     "output_type": "stream",
     "text": [
      "4\n"
     ]
    }
   ],
   "source": [
    "# coin change problem\n",
    "class solution:\n",
    "    def coin_change(self, coins, amount):\n",
    "        dp = [amount+1]*(amount+1)\n",
    "        dp[0] = 0\n",
    "        for i in range(1, amount+1):\n",
    "            for j in range(len(coins)):\n",
    "                if coins[j] <= i:\n",
    "                    dp[i] = min(dp[i], dp[i-coins[j]]+1)\n",
    "        if dp[amount] > amount:\n",
    "            return -1\n",
    "        else:\n",
    "            return dp[amount]\n",
    "# main \n",
    "if __name__ == \"__main__\":\n",
    "    coins = [1, 5, 7]\n",
    "    amount = 18\n",
    "    print(solution().coin_change(coins, amount))"
   ]
  },
  {
   "cell_type": "code",
   "execution_count": 5,
   "metadata": {},
   "outputs": [],
   "source": [
    "class solution:\n",
    "    def min_coins(self, n, coins):\n",
    "        if n == 0:\n",
    "            return 0\n",
    "        ans = 10000\n",
    "        for coin in coins:\n",
    "            if n - coin >= 0:\n",
    "                subans = self.min_coins(n-coin, coins)\n",
    "            ans = min(ans, subans+1)\n",
    "        return ans   \n",
    "\n",
    "# obj = solution()\n",
    "# n = 18\n",
    "# coins = [1, 5, 7]\n",
    "# print(obj.min_coins(n, coins)) \n"
   ]
  },
  {
   "cell_type": "code",
   "execution_count": 6,
   "metadata": {},
   "outputs": [
    {
     "name": "stdout",
     "output_type": "stream",
     "text": [
      "4\n"
     ]
    }
   ],
   "source": [
    "obj = solution()\n",
    "n = 18\n",
    "coins = [1, 5, 7]\n",
    "print(obj.min_coins(n, coins))"
   ]
  },
  {
   "cell_type": "code",
   "execution_count": 2,
   "metadata": {},
   "outputs": [
    {
     "name": "stdout",
     "output_type": "stream",
     "text": [
      "4\n",
      "[0, 1, 2, 3, 4, 1, 2, 1, 2, 3, 2, 3, 2, 3, 2, 3, 4, 3, 4]\n"
     ]
    }
   ],
   "source": [
    "class solution_repeat:\n",
    "    # dp = []\n",
    "    def min_coins(self, n, coins, dp):\n",
    "        if n == 0:\n",
    "            return 0\n",
    "        ans = float('inf')\n",
    "        for i in range(len(coins)):\n",
    "            if (n-coins[i]) >= 0:\n",
    "                if dp[n-coins[i]] != -1:\n",
    "                    subans = dp[n-coins[i]]\n",
    "                else:\n",
    "                    subans = self.min_coins(n-coins[i], coins, dp) \n",
    "            # else:\n",
    "                # return -1        \n",
    "            ans = min(subans+1, ans)  \n",
    "        dp[n] = ans    \n",
    "        return ans\n",
    "\n",
    "\n",
    "obj = solution_repeat()\n",
    "n = 18\n",
    "coins = [1, 5, 7]\n",
    "\n",
    "dp = [-1] * (n+1)\n",
    "dp[0] = 0\n",
    "out = obj.min_coins(n, coins, dp)\n",
    "print(out)\n",
    "print(dp)\n",
    "\n"
   ]
  },
  {
   "cell_type": "code",
   "execution_count": 35,
   "metadata": {},
   "outputs": [
    {
     "name": "stdout",
     "output_type": "stream",
     "text": [
      "[0, 1, 2, 3, 4, 1, 2, 1, 2, 3, 2, 3, 2, 3, 2, 3, 4, 3, 4]\n",
      "4\n"
     ]
    }
   ],
   "source": [
    "class solution:\n",
    "    def min_coins(self, n, coins, dp):\n",
    "        # base case \n",
    "        if n == 0:\n",
    "            return 0\n",
    "        ans = float('inf')\n",
    "        for coin in coins:\n",
    "            new_n = n - coin\n",
    "            if new_n >= 0:\n",
    "                if dp[new_n] != -1:\n",
    "                    subans = dp[new_n]\n",
    "                else:    \n",
    "                    subans = self.min_coins(new_n, coins, dp)\n",
    "            ans = min(ans, subans+1)\n",
    "        dp[n] = ans    \n",
    "        return ans\n",
    "\n",
    "# main Code\n",
    "n = 18\n",
    "coins = [1, 5, 7]\n",
    "dp = [-1 for i in range(n+1)] \n",
    "dp[0] = 0 \n",
    "out = solution().min_coins(n, coins, dp)\n",
    "# print(dp)\n",
    "print(out)"
   ]
  },
  {
   "cell_type": "code",
   "execution_count": 4,
   "metadata": {},
   "outputs": [],
   "source": [
    "class Solution(object):\n",
    "    def coinChange(self, coins, amount):\n",
    "        \"\"\"\n",
    "        :type coins: List[int]\n",
    "        :type amount: int\n",
    "        :rtype: int\n",
    "        \"\"\"\n",
    "        if amount == 0:\n",
    "            return 0\n",
    "        value1 = [0]\n",
    "        value2 = []\n",
    "        nc =  0\n",
    "        visited = [False]*(amount+1)\n",
    "        visited[0] = True\n",
    "        while value1:\n",
    "            nc += 1\n",
    "            for v in value1:\n",
    "                for coin in coins:\n",
    "                    newval = v + coin\n",
    "                    if newval == amount:\n",
    "                        return nc\n",
    "                    elif newval > amount:\n",
    "                        continue\n",
    "                    elif not visited[newval]:\n",
    "                        visited[newval] = True\n",
    "                        value2.append(newval)\n",
    "            value1, value2 = value2, []\n",
    "        return -1"
   ]
  },
  {
   "cell_type": "code",
   "execution_count": 21,
   "metadata": {},
   "outputs": [],
   "source": [
    "class Solution:\n",
    "    def coinChange(self, coins, n):\n",
    "        if n == 0:\n",
    "            return 0\n",
    "        dp = [-1] * (n+1)\n",
    "        dp[0] = 0\n",
    "        values1 = [0]\n",
    "        values2 = []\n",
    "        count = 1\n",
    "        while values1:\n",
    "            count += 1\n",
    "            for val in values1:\n",
    "                for coin in coins:\n",
    "                    if val + coin == n:\n",
    "                        return count\n",
    "                    elif val + coin > n:\n",
    "                        continue\n",
    "                    elif dp[val+coin] == -1:\n",
    "                        dp[val+coin] = val+coin\n",
    "                        values1.append(val+coin)   \n",
    "            values1, values2 = values2, []\n",
    "    \n",
    "        return -1"
   ]
  },
  {
   "cell_type": "code",
   "execution_count": 22,
   "metadata": {},
   "outputs": [
    {
     "name": "stdout",
     "output_type": "stream",
     "text": [
      "2\n"
     ]
    }
   ],
   "source": [
    "obj = Solution()\n",
    "# coins = [1, 5,7]\n",
    "coins = [2, 1]\n",
    "n = 3\n",
    "out = obj.coinChange(coins, n)\n",
    "print(out)"
   ]
  }
 ],
 "metadata": {
  "kernelspec": {
   "display_name": "Python 3",
   "language": "python",
   "name": "python3"
  },
  "language_info": {
   "codemirror_mode": {
    "name": "ipython",
    "version": 3
   },
   "file_extension": ".py",
   "mimetype": "text/x-python",
   "name": "python",
   "nbconvert_exporter": "python",
   "pygments_lexer": "ipython3",
   "version": "3.10.7"
  },
  "orig_nbformat": 4,
  "vscode": {
   "interpreter": {
    "hash": "490f1c68ed42f2c5a574e22fb9e03ff49b98516de8582ff1c5d4fb43fb70f61b"
   }
  }
 },
 "nbformat": 4,
 "nbformat_minor": 2
}
