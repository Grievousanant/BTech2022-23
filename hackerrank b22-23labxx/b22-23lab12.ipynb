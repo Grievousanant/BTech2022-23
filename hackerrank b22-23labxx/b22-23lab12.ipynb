{
 "cells": [
  {
   "cell_type": "code",
   "execution_count": null,
   "metadata": {},
   "outputs": [],
   "source": [
    "# The Ship Team\n",
    "dct = eval(input())\n",
    "team1 = []\n",
    "team2 = []\n",
    "for i in dct:\n",
    "    if dct[i] < 20 or dct[i] > 40:\n",
    "        team1.append(i)\n",
    "    else:\n",
    "        team2.append(i)\n",
    "\n",
    "team1.sort()\n",
    "team2.sort()\n",
    "out = f'[\\n {team1},\\n {team2}\\n]'\n",
    "print(out)"
   ]
  },
  {
   "cell_type": "code",
   "execution_count": null,
   "metadata": {},
   "outputs": [],
   "source": [
    "# Phone Book Dictionary\n",
    "num = int(input())\n",
    "dct = {}\n",
    "for i in range(num):\n",
    "    name, mob = input().split()\n",
    "    dct[name] = mob\n",
    "for i in range(num):\n",
    "    name_q = input()\n",
    "    out = dct.get(name_q)\n",
    "    if out:\n",
    "        print(f'{name_q}={out}')\n",
    "    else:\n",
    "        print('Not found')"
   ]
  },
  {
   "cell_type": "code",
   "execution_count": null,
   "metadata": {},
   "outputs": [],
   "source": [
    "# Binary Bits 1\n",
    "num1, num2 = map(int, input().split())\n",
    "thersold = int(input())\n",
    "\n",
    "op_and = num1 & num2\n",
    "op_or = num1 | num2\n",
    "op_xor = num1 ^ num2\n",
    "\n",
    "# filter \n",
    "op_and = op_and * (op_and < thersold)\n",
    "op_or = op_or * (op_or < thersold)\n",
    "op_xor = op_xor * (op_xor < thersold)\n",
    "\n",
    "print(max(op_and, op_or, op_xor))"
   ]
  }
 ],
 "metadata": {
  "language_info": {
   "name": "python"
  },
  "orig_nbformat": 4
 },
 "nbformat": 4,
 "nbformat_minor": 2
}
