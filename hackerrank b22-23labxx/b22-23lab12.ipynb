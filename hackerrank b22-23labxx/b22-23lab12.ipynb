{
 "cells": [
  {
   "cell_type": "code",
   "execution_count": null,
   "metadata": {},
   "outputs": [],
   "source": [
    "# The Ship Team\n",
    "dct = eval(input())\n",
    "team1 = []\n",
    "team2 = []\n",
    "for i in dct:\n",
    "    if dct[i] < 20 or dct[i] > 40:\n",
    "        team1.append(i)\n",
    "    else:\n",
    "        team2.append(i)\n",
    "\n",
    "team1.sort()\n",
    "team2.sort()\n",
    "out = f'[\\n {team1},\\n {team2}\\n]'\n",
    "print(out)"
   ]
  }
 ],
 "metadata": {
  "language_info": {
   "name": "python"
  },
  "orig_nbformat": 4
 },
 "nbformat": 4,
 "nbformat_minor": 2
}
