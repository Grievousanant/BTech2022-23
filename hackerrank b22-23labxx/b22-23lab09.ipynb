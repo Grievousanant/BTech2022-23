{
 "cells": [
  {
   "cell_type": "code",
   "execution_count": null,
   "metadata": {},
   "outputs": [],
   "source": [
    "# matric behavior\n",
    "def create_matrix(arr, r, c):\n",
    "    m = []\n",
    "    element = 0\n",
    "    for i in range(r):\n",
    "        t = []\n",
    "        for j in range(c):\n",
    "            t.append(arr[element])\n",
    "            element += 1\n",
    "    return m\n",
    "def display_matrix(arr):\n",
    "    for r in arr:\n",
    "        print(*r)     \n",
    "\n",
    "# main code\n",
    "# user data is in orignal form\n",
    "ls = eval(input())\n",
    "r, c = map(int, input().split('x'))\n",
    "if r * c == len(ls):\n",
    "    out = create_matrix(ls, r, c)\n",
    "    display_matrix(out)\n",
    "else:\n",
    "    print(None)       "
   ]
  }
 ],
 "metadata": {
  "language_info": {
   "name": "python"
  },
  "orig_nbformat": 4
 },
 "nbformat": 4,
 "nbformat_minor": 2
}
