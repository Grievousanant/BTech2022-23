{
 "cells": [
  {
   "cell_type": "code",
   "execution_count": 1,
   "metadata": {},
   "outputs": [
    {
     "name": "stdout",
     "output_type": "stream",
     "text": [
      "\"_tdgd72_ws\"\n"
     ]
    }
   ],
   "source": [
    "# filter string\n",
    "def filter_string(st):\n",
    "    # Write your code here and return output\n",
    "    new_st = '\"'\n",
    "    for i in st:\n",
    "        if i.isalnum() or i == '/':\n",
    "            new_st += i\n",
    "        else:\n",
    "            if new_st[-1] != '_':\n",
    "                new_st += '_'\n",
    "    return new_st +'\"' \n",
    "st = input()\n",
    "out = filter_string(st)\n",
    "print(out)    "
   ]
  }
 ],
 "metadata": {
  "kernelspec": {
   "display_name": "Python 3.10.7 64-bit",
   "language": "python",
   "name": "python3"
  },
  "language_info": {
   "codemirror_mode": {
    "name": "ipython",
    "version": 3
   },
   "file_extension": ".py",
   "mimetype": "text/x-python",
   "name": "python",
   "nbconvert_exporter": "python",
   "pygments_lexer": "ipython3",
   "version": "3.10.7"
  },
  "orig_nbformat": 4,
  "vscode": {
   "interpreter": {
    "hash": "490f1c68ed42f2c5a574e22fb9e03ff49b98516de8582ff1c5d4fb43fb70f61b"
   }
  }
 },
 "nbformat": 4,
 "nbformat_minor": 2
}
