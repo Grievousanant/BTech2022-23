{
 "cells": [
  {
   "cell_type": "code",
   "execution_count": 1,
   "metadata": {},
   "outputs": [
    {
     "name": "stdout",
     "output_type": "stream",
     "text": [
      "[4, 2, 6]\n"
     ]
    }
   ],
   "source": [
    "lst = [3, 4, 2, 5 , 6]\n",
    "out = []\n",
    "for i in lst:\n",
    "    if i % 2 == 0:\n",
    "        out.append(i)\n",
    "print(out)        "
   ]
  },
  {
   "cell_type": "code",
   "execution_count": 3,
   "metadata": {},
   "outputs": [],
   "source": [
    "\n",
    "  "
   ]
  },
  {
   "cell_type": "code",
   "execution_count": 5,
   "metadata": {},
   "outputs": [
    {
     "name": "stdout",
     "output_type": "stream",
     "text": [
      "[4, 2, 6]\n"
     ]
    }
   ],
   "source": [
    "\n",
    "lst = [3, 4, 2, 5, 6]\n",
    "out = list(filter(lambda x: x % 2 == 0  , lst))\n",
    "print(out) "
   ]
  },
  {
   "cell_type": "code",
   "execution_count": 8,
   "metadata": {},
   "outputs": [
    {
     "name": "stdout",
     "output_type": "stream",
     "text": [
      "amirkhanglaacin\n"
     ]
    }
   ],
   "source": [
    "st = 'amir.khan@gla.ac.in'\n",
    "out = ''.join(filter(lambda x: x.isalpha(), st))\n",
    "print(out)\n",
    "\n",
    "# amirkhanglaacin\n"
   ]
  },
  {
   "cell_type": "code",
   "execution_count": 8,
   "metadata": {},
   "outputs": [
    {
     "name": "stdout",
     "output_type": "stream",
     "text": [
      "[3, 4, 5, 6, 2, 7, 11, 17, 19, 22, 23]\n",
      "[4, 6, 2, 22]\n"
     ]
    }
   ],
   "source": [
    "\n",
    "lst = [3, 4, 5, 6, 2, 7, 11, 17, 19, 22, 23]\n",
    "out = list(filter(prime, lst))\n",
    "print(lst)\n",
    "print(out)"
   ]
  },
  {
   "cell_type": "code",
   "execution_count": 13,
   "metadata": {},
   "outputs": [
    {
     "name": "stdout",
     "output_type": "stream",
     "text": [
      "121\n"
     ]
    }
   ],
   "source": [
    "st = 'shgsh#121vbdv'\n",
    "out = ''.join(list(filter(lambda x:x.isdigit(), st)))\n",
    "print(out)"
   ]
  },
  {
   "cell_type": "code",
   "execution_count": 16,
   "metadata": {},
   "outputs": [
    {
     "name": "stdout",
     "output_type": "stream",
     "text": [
      "True\n"
     ]
    }
   ],
   "source": [
    "lst = [' ', None, 0, 0, 0]\n",
    "# out = any(lst)\n",
    "out = all(lst)\n",
    "print(out)"
   ]
  }
 ],
 "metadata": {
  "kernelspec": {
   "display_name": "Python 3.10.7 64-bit",
   "language": "python",
   "name": "python3"
  },
  "language_info": {
   "codemirror_mode": {
    "name": "ipython",
    "version": 3
   },
   "file_extension": ".py",
   "mimetype": "text/x-python",
   "name": "python",
   "nbconvert_exporter": "python",
   "pygments_lexer": "ipython3",
   "version": "3.10.7"
  },
  "orig_nbformat": 4,
  "vscode": {
   "interpreter": {
    "hash": "490f1c68ed42f2c5a574e22fb9e03ff49b98516de8582ff1c5d4fb43fb70f61b"
   }
  }
 },
 "nbformat": 4,
 "nbformat_minor": 2
}
